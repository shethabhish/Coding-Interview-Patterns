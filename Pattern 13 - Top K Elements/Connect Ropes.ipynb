{
 "cells": [
  {
   "cell_type": "code",
   "execution_count": 1,
   "metadata": {},
   "outputs": [],
   "source": [
    "from heapq import *\n",
    "def minimum_cost_to_connect_ropes(ropeslength):\n",
    "    result = 0\n",
    "    minheap = []\n",
    "    for i in ropeslength:\n",
    "        heappush(minheap,i)\n",
    "    \n",
    "    while len(minheap) > 1:\n",
    "        temp = heappop(minheap) + heappop(minheap)\n",
    "        result += temp\n",
    "        heappush(minheap,temp)\n",
    "    return result"
   ]
  },
  {
   "cell_type": "code",
   "execution_count": 2,
   "metadata": {},
   "outputs": [
    {
     "data": {
      "text/plain": [
       "36"
      ]
     },
     "execution_count": 2,
     "metadata": {},
     "output_type": "execute_result"
    }
   ],
   "source": [
    "minimum_cost_to_connect_ropes([3, 4, 5, 6])"
   ]
  }
 ],
 "metadata": {
  "kernelspec": {
   "display_name": "Python 3",
   "language": "python",
   "name": "python3"
  },
  "language_info": {
   "codemirror_mode": {
    "name": "ipython",
    "version": 3
   },
   "file_extension": ".py",
   "mimetype": "text/x-python",
   "name": "python",
   "nbconvert_exporter": "python",
   "pygments_lexer": "ipython3",
   "version": "3.7.6"
  }
 },
 "nbformat": 4,
 "nbformat_minor": 4
}
