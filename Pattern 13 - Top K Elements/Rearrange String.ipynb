{
 "cells": [
  {
   "cell_type": "code",
   "execution_count": 1,
   "metadata": {},
   "outputs": [],
   "source": [
    "from heapq import *\n",
    "\n",
    "def rearrange(s):\n",
    "    charfreq = {}\n",
    "    for i in s:\n",
    "        if i not in charfreq:\n",
    "            charfreq[i] = 0\n",
    "        charfreq[i] += 1\n",
    "    \n",
    "    maxheap = []\n",
    "    \n",
    "    for char,freq in charfreq.items():\n",
    "        heappush(maxheap,(-freq,char))\n",
    "    \n",
    "    prevchar, prevfreq = None, 0\n",
    "    result = []\n",
    "    while maxheap:\n",
    "        freq,char = heappop(maxheap)\n",
    "        if prevchar and -prevfreq > 0:\n",
    "            heappush(maxheap,(prevfreq,prevchar))\n",
    "        result.append(char)\n",
    "        prevchar = char\n",
    "        prevfreq = freq+1\n",
    "        \n",
    "    return ''.join(result) if len(result) == len(s) else \"\""
   ]
  },
  {
   "cell_type": "code",
   "execution_count": 2,
   "metadata": {},
   "outputs": [
    {
     "data": {
      "text/plain": [
       "'papap'"
      ]
     },
     "execution_count": 2,
     "metadata": {},
     "output_type": "execute_result"
    }
   ],
   "source": [
    "rearrange('aappp')"
   ]
  },
  {
   "cell_type": "code",
   "execution_count": 3,
   "metadata": {},
   "outputs": [
    {
     "data": {
      "text/plain": [
       "'gmrPagimnor'"
      ]
     },
     "execution_count": 3,
     "metadata": {},
     "output_type": "execute_result"
    }
   ],
   "source": [
    "rearrange('Programming')"
   ]
  },
  {
   "cell_type": "code",
   "execution_count": 4,
   "metadata": {},
   "outputs": [
    {
     "data": {
      "text/plain": [
       "''"
      ]
     },
     "execution_count": 4,
     "metadata": {},
     "output_type": "execute_result"
    }
   ],
   "source": [
    "rearrange('aapa')"
   ]
  }
 ],
 "metadata": {
  "kernelspec": {
   "display_name": "Python 3",
   "language": "python",
   "name": "python3"
  },
  "language_info": {
   "codemirror_mode": {
    "name": "ipython",
    "version": 3
   },
   "file_extension": ".py",
   "mimetype": "text/x-python",
   "name": "python",
   "nbconvert_exporter": "python",
   "pygments_lexer": "ipython3",
   "version": "3.7.6"
  }
 },
 "nbformat": 4,
 "nbformat_minor": 4
}
