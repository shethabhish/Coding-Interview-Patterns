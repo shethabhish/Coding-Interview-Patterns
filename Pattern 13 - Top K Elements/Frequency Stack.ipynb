{
 "cells": [
  {
   "cell_type": "code",
   "execution_count": 1,
   "metadata": {},
   "outputs": [],
   "source": [
    "import collections\n",
    "\n",
    "class FreqStack:\n",
    "    def __init__(self):\n",
    "        self.freq = collections.Counter()           \n",
    "        self.bucket = collections.defaultdict(list)  \n",
    "        self.maxFreq = 0\n",
    "\n",
    "    def push(self, ele):\n",
    "        self.freq[ele] += 1   \n",
    "        f = self.freq[ele]\n",
    "        \n",
    "        self.bucket[f].append(ele)   \n",
    "        self.maxFreq = max(f, self.maxFreq)\n",
    "\n",
    "    def pop(self):\n",
    "        ele = self.bucket[self.maxFreq].pop()  \n",
    "        self.freq[ele] -= 1\n",
    "\n",
    "        if not self.bucket[self.maxFreq]:       \n",
    "            self.maxFreq -= 1\n",
    "\n",
    "        return ele"
   ]
  },
  {
   "cell_type": "code",
   "execution_count": 2,
   "metadata": {},
   "outputs": [],
   "source": [
    "freq = FreqStack()"
   ]
  },
  {
   "cell_type": "code",
   "execution_count": 3,
   "metadata": {},
   "outputs": [],
   "source": [
    "freq.push(1)\n",
    "freq.push(2)\n",
    "freq.push(3)\n",
    "freq.push(2)\n",
    "freq.push(1)\n",
    "freq.push(2)\n",
    "freq.push(5)"
   ]
  },
  {
   "cell_type": "code",
   "execution_count": 4,
   "metadata": {},
   "outputs": [],
   "source": [
    "freq.pop()"
   ]
  }
 ],
 "metadata": {
  "kernelspec": {
   "display_name": "Python 3",
   "language": "python",
   "name": "python3"
  },
  "language_info": {
   "codemirror_mode": {
    "name": "ipython",
    "version": 3
   },
   "file_extension": ".py",
   "mimetype": "text/x-python",
   "name": "python",
   "nbconvert_exporter": "python",
   "pygments_lexer": "ipython3",
   "version": "3.7.6"
  }
 },
 "nbformat": 4,
 "nbformat_minor": 4
}
