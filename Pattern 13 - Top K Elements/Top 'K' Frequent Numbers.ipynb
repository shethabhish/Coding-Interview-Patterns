{
 "cells": [
  {
   "cell_type": "code",
   "execution_count": 1,
   "metadata": {},
   "outputs": [],
   "source": [
    "def find_k_frequent_numbers(nums,k):\n",
    "    freq_map = {}\n",
    "    for i in nums:\n",
    "        if i not in freq_map:\n",
    "            freq_map[i] = 0\n",
    "        freq_map[i] += 1\n",
    "    freq_map = sorted(freq_map.items(),key=lambda x: x[1])\n",
    "    res = []\n",
    "    for i in range(k):\n",
    "        res.append(freq_map.pop()[0])\n",
    "    return res "
   ]
  },
  {
   "cell_type": "code",
   "execution_count": 2,
   "metadata": {},
   "outputs": [
    {
     "data": {
      "text/plain": [
       "[11, 12]"
      ]
     },
     "execution_count": 2,
     "metadata": {},
     "output_type": "execute_result"
    }
   ],
   "source": [
    "find_k_frequent_numbers([1, 3, 5, 12, 11, 12, 11],2)"
   ]
  },
  {
   "cell_type": "code",
   "execution_count": 3,
   "metadata": {},
   "outputs": [],
   "source": [
    "from heapq import *\n",
    "def find_k_frequent_numbers(nums,k):\n",
    "    freq_map = {}\n",
    "    for i in nums:\n",
    "        if i not in freq_map:\n",
    "            freq_map[i] = 0\n",
    "        freq_map[i] += 1\n",
    "    \n",
    "    minheap = []\n",
    "    \n",
    "    for num,freq in freq_map.items():\n",
    "        heappush(minheap,(freq,num))\n",
    "        if len(minheap)>k:\n",
    "            heappop(minheap)\n",
    "    res = []\n",
    "    while minheap:\n",
    "        res.append(heappop(minheap)[1])\n",
    "    return res"
   ]
  },
  {
   "cell_type": "code",
   "execution_count": 4,
   "metadata": {},
   "outputs": [
    {
     "data": {
      "text/plain": [
       "[11, 12]"
      ]
     },
     "execution_count": 4,
     "metadata": {},
     "output_type": "execute_result"
    }
   ],
   "source": [
    "find_k_frequent_numbers([1, 3, 5, 12, 11, 12, 11],2)"
   ]
  }
 ],
 "metadata": {
  "kernelspec": {
   "display_name": "Python 3",
   "language": "python",
   "name": "python3"
  },
  "language_info": {
   "codemirror_mode": {
    "name": "ipython",
    "version": 3
   },
   "file_extension": ".py",
   "mimetype": "text/x-python",
   "name": "python",
   "nbconvert_exporter": "python",
   "pygments_lexer": "ipython3",
   "version": "3.7.6"
  }
 },
 "nbformat": 4,
 "nbformat_minor": 4
}
