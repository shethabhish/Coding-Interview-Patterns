{
 "cells": [
  {
   "cell_type": "code",
   "execution_count": 1,
   "metadata": {},
   "outputs": [],
   "source": [
    "from heapq import *\n",
    "def find_closest_elements(arr,k,x):\n",
    "    index = binary_search(arr,x)\n",
    "    low,high = index-k,index+k\n",
    "    \n",
    "    low = max(low,0)\n",
    "    high = min(high, len(arr)-1)\n",
    "    \n",
    "    minheap = []\n",
    "    \n",
    "    for i in range(low,high+1):\n",
    "        heappush(minheap,(abs(arr[i]-x),arr[i]))\n",
    "    \n",
    "    res = []\n",
    "    for _ in range(k):\n",
    "        res.append(heappop(minheap)[1])\n",
    "    \n",
    "    res.sort()\n",
    "    return res"
   ]
  },
  {
   "cell_type": "code",
   "execution_count": 2,
   "metadata": {},
   "outputs": [],
   "source": [
    "def binary_search(arr,target):\n",
    "    low, high = 0, len(arr)-1\n",
    "    \n",
    "    while low <= high:\n",
    "        mid = int(low + (high-low)//2)\n",
    "        if arr[mid] == target:\n",
    "            return mid\n",
    "        if arr[mid] < target:\n",
    "            low = mid + 1\n",
    "        else:\n",
    "            high = mid - 1\n",
    "    \n",
    "    if low > 0:\n",
    "        return low-1\n",
    "    return low"
   ]
  },
  {
   "cell_type": "code",
   "execution_count": 3,
   "metadata": {},
   "outputs": [
    {
     "data": {
      "text/plain": [
       "[5, 6, 9]"
      ]
     },
     "execution_count": 3,
     "metadata": {},
     "output_type": "execute_result"
    }
   ],
   "source": [
    "find_closest_elements([2, 4, 5, 6, 9],3,10)"
   ]
  }
 ],
 "metadata": {
  "kernelspec": {
   "display_name": "Python 3",
   "language": "python",
   "name": "python3"
  },
  "language_info": {
   "codemirror_mode": {
    "name": "ipython",
    "version": 3
   },
   "file_extension": ".py",
   "mimetype": "text/x-python",
   "name": "python",
   "nbconvert_exporter": "python",
   "pygments_lexer": "ipython3",
   "version": "3.7.6"
  }
 },
 "nbformat": 4,
 "nbformat_minor": 4
}
