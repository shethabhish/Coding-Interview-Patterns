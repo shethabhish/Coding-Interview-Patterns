{
 "cells": [
  {
   "cell_type": "code",
   "execution_count": 1,
   "metadata": {},
   "outputs": [],
   "source": [
    "from heapq import *\n",
    "def find_closest_points(points,k):\n",
    "    res = []\n",
    "    \n",
    "    for i in points:\n",
    "        temp = (i[0]**2) + (i[1]**2)\n",
    "        res.append(temp)\n",
    "    \n",
    "    maxheap = []\n",
    "    for i in range(k):\n",
    "        heappush(maxheap,-res[i])\n",
    "    \n",
    "    for i in range(k,len(res)):\n",
    "        if res[i] < -maxheap[0]:\n",
    "            heappop(maxheap)\n",
    "            heappush(maxheap,-res[i])\n",
    "    ind = []\n",
    "    for i in maxheap:\n",
    "        ind.append(res.index(-i))\n",
    "    ans = []\n",
    "    for i in ind:\n",
    "        ans.append(points[i])\n",
    "    return ans"
   ]
  },
  {
   "cell_type": "code",
   "execution_count": 2,
   "metadata": {},
   "outputs": [
    {
     "data": {
      "text/plain": [
       "[[1, 3], [2, -1]]"
      ]
     },
     "execution_count": 2,
     "metadata": {},
     "output_type": "execute_result"
    }
   ],
   "source": [
    "find_closest_points([[1, 3], [3, 4], [2, -1]],2)"
   ]
  }
 ],
 "metadata": {
  "kernelspec": {
   "display_name": "Python 3",
   "language": "python",
   "name": "python3"
  },
  "language_info": {
   "codemirror_mode": {
    "name": "ipython",
    "version": 3
   },
   "file_extension": ".py",
   "mimetype": "text/x-python",
   "name": "python",
   "nbconvert_exporter": "python",
   "pygments_lexer": "ipython3",
   "version": "3.7.6"
  }
 },
 "nbformat": 4,
 "nbformat_minor": 4
}
