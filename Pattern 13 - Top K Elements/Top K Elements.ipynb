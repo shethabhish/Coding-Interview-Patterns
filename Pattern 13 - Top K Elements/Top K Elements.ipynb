{
 "cells": [
  {
   "cell_type": "code",
   "execution_count": 1,
   "metadata": {},
   "outputs": [],
   "source": [
    "from heapq import *\n",
    "def find_k_largest_numbers(nums,k):\n",
    "    minheap = []\n",
    "    maxheap = []\n",
    "    result = []\n",
    "    for i in range(len(nums)):\n",
    "        if not maxheap or -maxheap[0] > nums[i]:\n",
    "            heappush(maxheap, -nums[i])\n",
    "        else:\n",
    "            heappush(minheap,nums[i])\n",
    "        \n",
    "        if len(maxheap) > len(minheap):\n",
    "            heappush(minheap, -heappop(maxheap))\n",
    "        if len(maxheap) < len(minheap):\n",
    "            heappush(maxheap, -heappop(minheap))\n",
    "    if len(minheap) >= k:\n",
    "        for i in range(len(minheap)-1,len(minheap)-k-1,-1):\n",
    "            result.append(minheap[i])\n",
    "    elif len(minheap) < k:\n",
    "        for i in minheap:\n",
    "            result.append(i)\n",
    "        n = k - len(result)\n",
    "        \n",
    "        for i in range(n):\n",
    "            result.append(-heappop(maxheap))\n",
    "    \n",
    "    return result[::-1]"
   ]
  },
  {
   "cell_type": "code",
   "execution_count": 2,
   "metadata": {},
   "outputs": [
    {
     "data": {
      "text/plain": [
       "[11, 12, 12]"
      ]
     },
     "execution_count": 2,
     "metadata": {},
     "output_type": "execute_result"
    }
   ],
   "source": [
    "find_k_largest_numbers([5, 12, 11, -1, 12],3)"
   ]
  },
  {
   "cell_type": "code",
   "execution_count": 3,
   "metadata": {},
   "outputs": [],
   "source": [
    "from heapq import *\n",
    "def find_k_largest_numbers(nums,k):\n",
    "    minheap = []\n",
    "    for i in range(k):\n",
    "        heappush(minheap,nums[i])\n",
    "    \n",
    "    for i in range(k,len(nums)):\n",
    "        if nums[i] > minheap[0]:\n",
    "            heappop(minheap)\n",
    "            heappush(minheap,nums[i])\n",
    "    return minheap"
   ]
  },
  {
   "cell_type": "code",
   "execution_count": 4,
   "metadata": {},
   "outputs": [
    {
     "data": {
      "text/plain": [
       "[5, 12, 11]"
      ]
     },
     "execution_count": 4,
     "metadata": {},
     "output_type": "execute_result"
    }
   ],
   "source": [
    "find_k_largest_numbers([3, 1, 5, 12, 2, 11],3)"
   ]
  }
 ],
 "metadata": {
  "kernelspec": {
   "display_name": "Python 3",
   "language": "python",
   "name": "python3"
  },
  "language_info": {
   "codemirror_mode": {
    "name": "ipython",
    "version": 3
   },
   "file_extension": ".py",
   "mimetype": "text/x-python",
   "name": "python",
   "nbconvert_exporter": "python",
   "pygments_lexer": "ipython3",
   "version": "3.7.6"
  }
 },
 "nbformat": 4,
 "nbformat_minor": 4
}
