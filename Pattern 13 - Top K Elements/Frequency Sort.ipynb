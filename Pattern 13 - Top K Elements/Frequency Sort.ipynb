{
 "cells": [
  {
   "cell_type": "code",
   "execution_count": 1,
   "metadata": {},
   "outputs": [],
   "source": [
    "from heapq import *\n",
    "def sort_character_by_frequency(s):\n",
    "    charfreq= {}\n",
    "    for i in s:\n",
    "        if i not in charfreq:\n",
    "            charfreq[i] = 0\n",
    "        charfreq[i] += 1\n",
    "    \n",
    "    maxheap = []\n",
    "    \n",
    "    for char,freq in charfreq.items():\n",
    "        heappush(maxheap,(-freq,char))\n",
    "    ans = []\n",
    "    \n",
    "    while maxheap:\n",
    "        freq,char = heappop(maxheap)\n",
    "        for _ in range(-freq):\n",
    "            ans.append(char)\n",
    "    return ''.join(ans)"
   ]
  },
  {
   "cell_type": "code",
   "execution_count": 2,
   "metadata": {},
   "outputs": [
    {
     "data": {
      "text/plain": [
       "'ggmmrrPaino'"
      ]
     },
     "execution_count": 2,
     "metadata": {},
     "output_type": "execute_result"
    }
   ],
   "source": [
    "sort_character_by_frequency(\"Programming\")"
   ]
  }
 ],
 "metadata": {
  "kernelspec": {
   "display_name": "Python 3",
   "language": "python",
   "name": "python3"
  },
  "language_info": {
   "codemirror_mode": {
    "name": "ipython",
    "version": 3
   },
   "file_extension": ".py",
   "mimetype": "text/x-python",
   "name": "python",
   "nbconvert_exporter": "python",
   "pygments_lexer": "ipython3",
   "version": "3.7.6"
  }
 },
 "nbformat": 4,
 "nbformat_minor": 4
}
