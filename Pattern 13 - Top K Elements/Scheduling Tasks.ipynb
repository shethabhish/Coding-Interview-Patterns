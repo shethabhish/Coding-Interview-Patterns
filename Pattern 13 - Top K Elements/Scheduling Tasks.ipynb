{
 "cells": [
  {
   "cell_type": "code",
   "execution_count": 1,
   "metadata": {},
   "outputs": [],
   "source": [
    "from heapq import *\n",
    "\n",
    "def schedule_tasks(tasks,k):\n",
    "    intervalcount = 0\n",
    "    taskfreq = {}\n",
    "    for i in tasks:\n",
    "        if i not in taskfreq:\n",
    "            taskfreq[i] = 0\n",
    "        taskfreq[i] += 1\n",
    "    \n",
    "    maxheap = []\n",
    "    \n",
    "    for char,freq in taskfreq.items():\n",
    "        heappush(maxheap,(-freq,char))\n",
    "    \n",
    "    while maxheap:\n",
    "        waitlist = []\n",
    "        n = k+1\n",
    "        while n>0 and maxheap:\n",
    "            intervalcount += 1\n",
    "            freq, char = heappop(maxheap)\n",
    "            if -freq > 1:\n",
    "                waitlist.append((freq+1,char))\n",
    "            n -= 1\n",
    "        \n",
    "        for freq, char in waitlist:\n",
    "            heappush(maxheap,(freq,char))\n",
    "        \n",
    "        if maxheap:\n",
    "            intervalcount += n\n",
    "            \n",
    "    return intervalcount"
   ]
  },
  {
   "cell_type": "code",
   "execution_count": 2,
   "metadata": {},
   "outputs": [
    {
     "data": {
      "text/plain": [
       "7"
      ]
     },
     "execution_count": 2,
     "metadata": {},
     "output_type": "execute_result"
    }
   ],
   "source": [
    "schedule_tasks(['a', 'a', 'a', 'b', 'c', 'c'],2)"
   ]
  },
  {
   "cell_type": "code",
   "execution_count": 3,
   "metadata": {},
   "outputs": [
    {
     "data": {
      "text/plain": [
       "5"
      ]
     },
     "execution_count": 3,
     "metadata": {},
     "output_type": "execute_result"
    }
   ],
   "source": [
    "schedule_tasks(['a', 'b', 'a'],3)"
   ]
  }
 ],
 "metadata": {
  "kernelspec": {
   "display_name": "Python 3",
   "language": "python",
   "name": "python3"
  },
  "language_info": {
   "codemirror_mode": {
    "name": "ipython",
    "version": 3
   },
   "file_extension": ".py",
   "mimetype": "text/x-python",
   "name": "python",
   "nbconvert_exporter": "python",
   "pygments_lexer": "ipython3",
   "version": "3.7.6"
  }
 },
 "nbformat": 4,
 "nbformat_minor": 4
}
