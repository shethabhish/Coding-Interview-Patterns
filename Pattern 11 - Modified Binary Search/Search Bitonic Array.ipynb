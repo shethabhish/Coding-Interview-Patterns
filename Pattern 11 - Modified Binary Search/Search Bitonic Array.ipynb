{
 "cells": [
  {
   "cell_type": "code",
   "execution_count": 1,
   "metadata": {},
   "outputs": [],
   "source": [
    "def search_bitonic_array(arr,key):\n",
    "    maxIndex = find_max(arr)\n",
    "    keyIndex = binary_search(arr,key,0,maxIndex)\n",
    "    if keyIndex != -1:\n",
    "        return keyIndex\n",
    "    return binary_search(arr,key,maxIndex+1,len(arr)-1)"
   ]
  },
  {
   "cell_type": "code",
   "execution_count": 2,
   "metadata": {},
   "outputs": [],
   "source": [
    "def find_max(arr):\n",
    "    start,end = 0, len(arr)-1\n",
    "    while start < end:\n",
    "        mid = start + (end-start)//2\n",
    "        if arr[mid] > arr[mid+1]:\n",
    "            end = mid\n",
    "        else:\n",
    "            start = mid+1\n",
    "    return start"
   ]
  },
  {
   "cell_type": "code",
   "execution_count": 3,
   "metadata": {},
   "outputs": [],
   "source": [
    "def binary_search(arr,key,start,end):\n",
    "    while start <= end:\n",
    "        mid = int(start + (end-start)/2)\n",
    "        if arr[mid] == key:\n",
    "            return mid\n",
    "        \n",
    "        if arr[start] < arr[end]:\n",
    "            if key < arr[mid]:\n",
    "                end = mid - 1\n",
    "            else:\n",
    "                start = mid+1\n",
    "        else:\n",
    "            if key > arr[mid]:\n",
    "                end = mid - 1\n",
    "            else:\n",
    "                start = mid+1\n",
    "    return -1\n"
   ]
  },
  {
   "cell_type": "code",
   "execution_count": 4,
   "metadata": {},
   "outputs": [
    {
     "data": {
      "text/plain": [
       "3"
      ]
     },
     "execution_count": 4,
     "metadata": {},
     "output_type": "execute_result"
    }
   ],
   "source": [
    "search_bitonic_array([1,3,8,4,3],4)        "
   ]
  }
 ],
 "metadata": {
  "kernelspec": {
   "display_name": "Python 3",
   "language": "python",
   "name": "python3"
  },
  "language_info": {
   "codemirror_mode": {
    "name": "ipython",
    "version": 3
   },
   "file_extension": ".py",
   "mimetype": "text/x-python",
   "name": "python",
   "nbconvert_exporter": "python",
   "pygments_lexer": "ipython3",
   "version": "3.7.6"
  }
 },
 "nbformat": 4,
 "nbformat_minor": 4
}
