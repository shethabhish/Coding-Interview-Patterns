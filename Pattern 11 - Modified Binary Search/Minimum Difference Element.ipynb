{
 "cells": [
  {
   "cell_type": "code",
   "execution_count": 1,
   "metadata": {},
   "outputs": [],
   "source": [
    "import math\n",
    "def search_min_diff_element(arr, key):\n",
    "    mindiff = math.inf\n",
    "    \n",
    "    for i in arr:\n",
    "        temp = abs(i-key)\n",
    "        mindiff = min(temp,mindiff)\n",
    "    \n",
    "    for i in arr:\n",
    "        if mindiff == abs(i-key):\n",
    "            return i"
   ]
  },
  {
   "cell_type": "code",
   "execution_count": 2,
   "metadata": {},
   "outputs": [
    {
     "data": {
      "text/plain": [
       "10"
      ]
     },
     "execution_count": 2,
     "metadata": {},
     "output_type": "execute_result"
    }
   ],
   "source": [
    "search_min_diff_element([4, 6, 10],17)\n",
    "#Time complexity O(N)"
   ]
  },
  {
   "cell_type": "code",
   "execution_count": 3,
   "metadata": {},
   "outputs": [],
   "source": [
    "def search_min_diff_element(arr, key):\n",
    "    if key < arr[0]:\n",
    "        return arr[0]\n",
    "    n = len(arr)\n",
    "    if key>arr[n-1]:\n",
    "        return arr[n-1]\n",
    "    \n",
    "    start,end = 0,n-1\n",
    "    while start  <= end:\n",
    "        mid = start + (end-start)//2\n",
    "        if key<arr[mid]:\n",
    "            end = mid-1\n",
    "        elif key > arr[mid]:\n",
    "            start = mid + 1\n",
    "        else:\n",
    "            return arr[mid]\n",
    "        \n",
    "        if arr[start] - key < key - arr[end]:\n",
    "            return arr[start]\n",
    "        return arr[end]"
   ]
  },
  {
   "cell_type": "code",
   "execution_count": 4,
   "metadata": {},
   "outputs": [
    {
     "data": {
      "text/plain": [
       "10"
      ]
     },
     "execution_count": 4,
     "metadata": {},
     "output_type": "execute_result"
    }
   ],
   "source": [
    "search_min_diff_element([4, 6, 10],17)\n",
    "#Time complexity O(logn)"
   ]
  }
 ],
 "metadata": {
  "kernelspec": {
   "display_name": "Python 3",
   "language": "python",
   "name": "python3"
  },
  "language_info": {
   "codemirror_mode": {
    "name": "ipython",
    "version": 3
   },
   "file_extension": ".py",
   "mimetype": "text/x-python",
   "name": "python",
   "nbconvert_exporter": "python",
   "pygments_lexer": "ipython3",
   "version": "3.7.6"
  }
 },
 "nbformat": 4,
 "nbformat_minor": 4
}
