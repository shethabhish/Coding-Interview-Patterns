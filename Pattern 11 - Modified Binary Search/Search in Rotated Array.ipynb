{
 "cells": [
  {
   "cell_type": "code",
   "execution_count": 1,
   "metadata": {},
   "outputs": [],
   "source": [
    "def search_rotated_array(arr,key):\n",
    "    start,end = 0, len(arr)-1\n",
    "    \n",
    "    while start <= end:\n",
    "        mid = start + (end-start)//2\n",
    "        \n",
    "        if arr[mid] == key:\n",
    "            return mid\n",
    "        \n",
    "        if arr[start] <= arr[mid]:\n",
    "            if key >= arr[start] and key <= arr[mid]:\n",
    "                end = mid - 1\n",
    "            else:\n",
    "                start = mid + 1\n",
    "        else:\n",
    "            if key>arr[mid] and key <= arr[end]:\n",
    "                start = mid + 1\n",
    "            else:\n",
    "                end = mid-1\n",
    "            \n",
    "    return -1"
   ]
  },
  {
   "cell_type": "code",
   "execution_count": 2,
   "metadata": {},
   "outputs": [
    {
     "data": {
      "text/plain": [
       "4"
      ]
     },
     "execution_count": 2,
     "metadata": {},
     "output_type": "execute_result"
    }
   ],
   "source": [
    "search_rotated_array([4, 5, 7, 9, 10, -1, 2],10)"
   ]
  }
 ],
 "metadata": {
  "kernelspec": {
   "display_name": "Python 3",
   "language": "python",
   "name": "python3"
  },
  "language_info": {
   "codemirror_mode": {
    "name": "ipython",
    "version": 3
   },
   "file_extension": ".py",
   "mimetype": "text/x-python",
   "name": "python",
   "nbconvert_exporter": "python",
   "pygments_lexer": "ipython3",
   "version": "3.7.6"
  }
 },
 "nbformat": 4,
 "nbformat_minor": 4
}
