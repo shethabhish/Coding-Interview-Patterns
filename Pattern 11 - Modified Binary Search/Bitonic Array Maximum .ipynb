{
 "cells": [
  {
   "cell_type": "code",
   "execution_count": 1,
   "metadata": {},
   "outputs": [],
   "source": [
    "def max_in_bitonic_array(arr):\n",
    "    start, end = 0, len(arr)-1\n",
    "    while start < end:\n",
    "        mid = start + (end-start)//2\n",
    "        if arr[mid] > arr[mid+1]:\n",
    "            end = mid\n",
    "        else:\n",
    "            start = mid + 1\n",
    "    \n",
    "    return arr[start]"
   ]
  },
  {
   "cell_type": "code",
   "execution_count": 2,
   "metadata": {},
   "outputs": [
    {
     "data": {
      "text/plain": [
       "12"
      ]
     },
     "execution_count": 2,
     "metadata": {},
     "output_type": "execute_result"
    }
   ],
   "source": [
    "max_in_bitonic_array([1,3,8,12,4,2])"
   ]
  }
 ],
 "metadata": {
  "kernelspec": {
   "display_name": "Python 3",
   "language": "python",
   "name": "python3"
  },
  "language_info": {
   "codemirror_mode": {
    "name": "ipython",
    "version": 3
   },
   "file_extension": ".py",
   "mimetype": "text/x-python",
   "name": "python",
   "nbconvert_exporter": "python",
   "pygments_lexer": "ipython3",
   "version": "3.7.6"
  }
 },
 "nbformat": 4,
 "nbformat_minor": 4
}
