{
 "cells": [
  {
   "cell_type": "code",
   "execution_count": 1,
   "metadata": {},
   "outputs": [],
   "source": [
    "def find_range(arr,key):\n",
    "    result = [-1,-1]\n",
    "    result[0] = binary_search(arr,key,False)\n",
    "    if result[0] != -1:\n",
    "        result[1] = binary_search(arr,key,True)\n",
    "    return result"
   ]
  },
  {
   "cell_type": "code",
   "execution_count": 2,
   "metadata": {},
   "outputs": [],
   "source": [
    "def binary_search(arr,key,maxIndex):\n",
    "    keyIndex = -1\n",
    "    start,end = 0, len(arr)-1\n",
    "    while start <= end:\n",
    "        mid = start + (end-start)//2\n",
    "        if key<arr[mid]:\n",
    "            end = mid-1\n",
    "        elif key>arr[mid]:\n",
    "            start = mid+1\n",
    "        else:\n",
    "            keyIndex = mid\n",
    "            if maxIndex:\n",
    "                start = mid+1\n",
    "            else:\n",
    "                end = mid-1\n",
    "    return keyIndex"
   ]
  },
  {
   "cell_type": "code",
   "execution_count": 3,
   "metadata": {},
   "outputs": [
    {
     "data": {
      "text/plain": [
       "[1, 3]"
      ]
     },
     "execution_count": 3,
     "metadata": {},
     "output_type": "execute_result"
    }
   ],
   "source": [
    "find_range([4,6,6,6,9],6)"
   ]
  }
 ],
 "metadata": {
  "kernelspec": {
   "display_name": "Python 3",
   "language": "python",
   "name": "python3"
  },
  "language_info": {
   "codemirror_mode": {
    "name": "ipython",
    "version": 3
   },
   "file_extension": ".py",
   "mimetype": "text/x-python",
   "name": "python",
   "nbconvert_exporter": "python",
   "pygments_lexer": "ipython3",
   "version": "3.7.6"
  }
 },
 "nbformat": 4,
 "nbformat_minor": 4
}
