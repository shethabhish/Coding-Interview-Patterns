{
 "cells": [
  {
   "cell_type": "code",
   "execution_count": 1,
   "metadata": {},
   "outputs": [],
   "source": [
    "def count_rotations(arr):\n",
    "    start, end = 0, len(arr)-1\n",
    "    while start < end:\n",
    "        mid = start + (end-start)//2\n",
    "        \n",
    "        if mid < end and arr[mid] > arr[mid+1]:\n",
    "            return mid+1\n",
    "        \n",
    "        if mid > start and arr[mid-1] > arr[mid]:\n",
    "            return mid\n",
    "        \n",
    "        if arr[start] < arr[mid]:\n",
    "            start = mid+1\n",
    "        else:\n",
    "            end = mid -1\n",
    "    return 0"
   ]
  },
  {
   "cell_type": "code",
   "execution_count": 2,
   "metadata": {},
   "outputs": [
    {
     "data": {
      "text/plain": [
       "5"
      ]
     },
     "execution_count": 2,
     "metadata": {},
     "output_type": "execute_result"
    }
   ],
   "source": [
    "count_rotations([4,5,7,9,10,-1,2])"
   ]
  }
 ],
 "metadata": {
  "kernelspec": {
   "display_name": "Python 3",
   "language": "python",
   "name": "python3"
  },
  "language_info": {
   "codemirror_mode": {
    "name": "ipython",
    "version": 3
   },
   "file_extension": ".py",
   "mimetype": "text/x-python",
   "name": "python",
   "nbconvert_exporter": "python",
   "pygments_lexer": "ipython3",
   "version": "3.7.6"
  }
 },
 "nbformat": 4,
 "nbformat_minor": 4
}
