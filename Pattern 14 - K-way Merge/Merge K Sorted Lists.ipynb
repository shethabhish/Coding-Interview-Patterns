{
 "cells": [
  {
   "cell_type": "code",
   "execution_count": 1,
   "metadata": {},
   "outputs": [],
   "source": [
    "from heapq import *\n",
    "class Node:\n",
    "    def __init__(self,value):\n",
    "        self.value = value\n",
    "        self.next = None\n",
    "    def __lt__(self,other):\n",
    "        return self.value < other.value"
   ]
  },
  {
   "cell_type": "code",
   "execution_count": 2,
   "metadata": {},
   "outputs": [],
   "source": [
    "l1 = Node(2)\n",
    "l1.next = Node(6)\n",
    "l1.next.next = Node(8)"
   ]
  },
  {
   "cell_type": "code",
   "execution_count": 3,
   "metadata": {},
   "outputs": [],
   "source": [
    "l2 = Node(3)\n",
    "l2.next = Node(6)\n",
    "l2.next.next = Node(7)"
   ]
  },
  {
   "cell_type": "code",
   "execution_count": 4,
   "metadata": {},
   "outputs": [],
   "source": [
    "l3 = Node(1)\n",
    "l3.next = Node(3)\n",
    "l3.next.next = Node(4)"
   ]
  },
  {
   "cell_type": "code",
   "execution_count": 5,
   "metadata": {},
   "outputs": [],
   "source": [
    "def merge_list(lists):\n",
    "    minheap = []\n",
    "    for l in lists:\n",
    "        while l:\n",
    "            heappush(minheap,l.value)\n",
    "            l = l.next\n",
    "    res = []\n",
    "    for i in range(len(minheap)):\n",
    "        res.append(heappop(minheap))\n",
    "    return res"
   ]
  },
  {
   "cell_type": "code",
   "execution_count": 6,
   "metadata": {},
   "outputs": [
    {
     "data": {
      "text/plain": [
       "[1, 2, 3, 3, 4, 6, 6, 7, 8]"
      ]
     },
     "execution_count": 6,
     "metadata": {},
     "output_type": "execute_result"
    }
   ],
   "source": [
    "merge_list([l1,l2,l3])"
   ]
  },
  {
   "cell_type": "code",
   "execution_count": 7,
   "metadata": {},
   "outputs": [],
   "source": [
    "def merge_list(lists):\n",
    "    minheap = []\n",
    "    \n",
    "    for root in lists:\n",
    "        if root is not None:\n",
    "            heappush(minheap, root)\n",
    "        \n",
    "    resulthead, resulttail = None, None\n",
    "    while minheap:\n",
    "        node = heappop(minheap)\n",
    "        if resulthead is None:\n",
    "            resulthead = resulttail = node\n",
    "        else:\n",
    "            resulttail.next = node\n",
    "            resulttail = resulttail.next\n",
    "        \n",
    "        if node.next is not None:\n",
    "            heappush(minheap, node.next)\n",
    "            \n",
    "    return resulthead"
   ]
  },
  {
   "cell_type": "code",
   "execution_count": 8,
   "metadata": {},
   "outputs": [
    {
     "name": "stdout",
     "output_type": "stream",
     "text": [
      "1\n",
      "2\n",
      "3\n",
      "3\n",
      "4\n",
      "6\n",
      "6\n",
      "7\n",
      "8\n"
     ]
    }
   ],
   "source": [
    "result = merge_list([l1,l2,l3])\n",
    "while result is not None:\n",
    "    print(result.value)\n",
    "    result = result.next"
   ]
  }
 ],
 "metadata": {
  "kernelspec": {
   "display_name": "Python 3",
   "language": "python",
   "name": "python3"
  },
  "language_info": {
   "codemirror_mode": {
    "name": "ipython",
    "version": 3
   },
   "file_extension": ".py",
   "mimetype": "text/x-python",
   "name": "python",
   "nbconvert_exporter": "python",
   "pygments_lexer": "ipython3",
   "version": "3.7.6"
  }
 },
 "nbformat": 4,
 "nbformat_minor": 4
}
