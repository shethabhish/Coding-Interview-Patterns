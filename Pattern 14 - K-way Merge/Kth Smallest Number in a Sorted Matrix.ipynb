{
 "cells": [
  {
   "cell_type": "code",
   "execution_count": 1,
   "metadata": {},
   "outputs": [
    {
     "ename": "SyntaxError",
     "evalue": "invalid syntax (<ipython-input-1-fe58e3e19c5b>, line 8)",
     "output_type": "error",
     "traceback": [
      "\u001b[1;36m  File \u001b[1;32m\"<ipython-input-1-fe58e3e19c5b>\"\u001b[1;36m, line \u001b[1;32m8\u001b[0m\n\u001b[1;33m    heappop(minheap)i\u001b[0m\n\u001b[1;37m                    ^\u001b[0m\n\u001b[1;31mSyntaxError\u001b[0m\u001b[1;31m:\u001b[0m invalid syntax\n"
     ]
    }
   ],
   "source": [
    "from heapq import *\n",
    "def find_kth_smallest(lists,k):\n",
    "    minheap = []\n",
    "    for i in lists:\n",
    "        for j in i:\n",
    "            heappush(minheap,j)\n",
    "    for _ in range(k-1):\n",
    "        heappop(minheap)i\n",
    "    return minheap[0]"
   ]
  },
  {
   "cell_type": "code",
   "execution_count": null,
   "metadata": {},
   "outputs": [],
   "source": [
    "find_kth_smallest([[2, 6, 8], [3, 7, 10],[5, 8, 11]],5)"
   ]
  },
  {
   "cell_type": "code",
   "execution_count": null,
   "metadata": {},
   "outputs": [],
   "source": [
    "from heapq import *\n",
    "def find_kth_smallest(lists,k):\n",
    "    minheap = []\n",
    "    \n",
    "    for i in range(len(lists)):\n",
    "        heappush(minheap,(lists[i][0],0,lists[i]))\n",
    "        \n",
    "    numbercount, number = 0,0\n",
    "    while minheap:\n",
    "        number,i,row = heappop(minheap)\n",
    "        numbercount += 1\n",
    "        if numbercount == k:\n",
    "            break\n",
    "        if len(row) > i+1:\n",
    "            heappush(minheap, (row[i+1],i+1,row))\n",
    "    return number"
   ]
  },
  {
   "cell_type": "code",
   "execution_count": null,
   "metadata": {},
   "outputs": [],
   "source": [
    "find_kth_smallest([[2, 6, 8], [3, 7, 10],[5, 8, 11]],5)"
   ]
  }
 ],
 "metadata": {
  "kernelspec": {
   "display_name": "Python 3",
   "language": "python",
   "name": "python3"
  },
  "language_info": {
   "codemirror_mode": {
    "name": "ipython",
    "version": 3
   },
   "file_extension": ".py",
   "mimetype": "text/x-python",
   "name": "python",
   "nbconvert_exporter": "python",
   "pygments_lexer": "ipython3",
   "version": "3.7.6"
  }
 },
 "nbformat": 4,
 "nbformat_minor": 4
}
