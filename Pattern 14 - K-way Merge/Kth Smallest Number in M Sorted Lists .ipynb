{
 "cells": [
  {
   "cell_type": "code",
   "execution_count": 1,
   "metadata": {},
   "outputs": [],
   "source": [
    "from heapq import *\n",
    "def find_kth_smallest(lists,k):\n",
    "    minheap = []\n",
    "    for i in lists:\n",
    "        for j in i:\n",
    "            heappush(minheap,j)\n",
    "    for _ in range(k-1):\n",
    "        heappop(minheap)\n",
    "    return minheap[0]"
   ]
  },
  {
   "cell_type": "code",
   "execution_count": 2,
   "metadata": {},
   "outputs": [
    {
     "data": {
      "text/plain": [
       "4"
      ]
     },
     "execution_count": 2,
     "metadata": {},
     "output_type": "execute_result"
    }
   ],
   "source": [
    "find_kth_smallest([[2,6,8],[3,6,7],[1,3,4]],5)"
   ]
  },
  {
   "cell_type": "code",
   "execution_count": 3,
   "metadata": {},
   "outputs": [],
   "source": [
    "from heapq import *\n",
    "def find_kth_smallest(lists,k):\n",
    "    minheap = []\n",
    "    for i in range(len(lists)):\n",
    "        heappush(minheap, (lists[i][0],0,lists[i]))\n",
    "    \n",
    "    numbercount, number = 0,0\n",
    "    while minheap:\n",
    "        number, i, list = heappop(minheap)\n",
    "        numbercount += 1\n",
    "        if numbercount == k:\n",
    "            break\n",
    "        if len(list) > i+1:\n",
    "            heappush(minheap,(list[i+1],i+1,list))\n",
    "    return number"
   ]
  },
  {
   "cell_type": "code",
   "execution_count": 4,
   "metadata": {},
   "outputs": [
    {
     "data": {
      "text/plain": [
       "4"
      ]
     },
     "execution_count": 4,
     "metadata": {},
     "output_type": "execute_result"
    }
   ],
   "source": [
    "find_kth_smallest([[2,6,8],[3,6,7],[1,3,4]],5)"
   ]
  }
 ],
 "metadata": {
  "kernelspec": {
   "display_name": "Python 3",
   "language": "python",
   "name": "python3"
  },
  "language_info": {
   "codemirror_mode": {
    "name": "ipython",
    "version": 3
   },
   "file_extension": ".py",
   "mimetype": "text/x-python",
   "name": "python",
   "nbconvert_exporter": "python",
   "pygments_lexer": "ipython3",
   "version": "3.7.6"
  }
 },
 "nbformat": 4,
 "nbformat_minor": 4
}
