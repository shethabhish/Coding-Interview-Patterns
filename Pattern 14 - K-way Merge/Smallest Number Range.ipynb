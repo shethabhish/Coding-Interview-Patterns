{
 "cells": [
  {
   "cell_type": "code",
   "execution_count": 1,
   "metadata": {},
   "outputs": [],
   "source": [
    "from heapq import *\n",
    "import math\n",
    "def find_smallest_range(lists):\n",
    "    minheap = []\n",
    "    rangeStart, rangeEnd = 0, math.inf\n",
    "    currentmax = -math.inf\n",
    "    \n",
    "    for arr in lists:\n",
    "        heappush(minheap,(arr[0],0,arr))\n",
    "        currentmax = max(currentmax,arr[0])\n",
    "        \n",
    "    while len(minheap) == len(lists):\n",
    "        num, i, arr = heappop(minheap)\n",
    "        if rangeEnd - rangeStart > currentmax - num:\n",
    "            rangeStart = num\n",
    "            rangeEnd = currentmax\n",
    "            \n",
    "        if len(arr)>i+1:\n",
    "            heappush(minheap, (arr[i+1],i+1,arr))\n",
    "            currentmax = max(currentmax, arr[i+1])\n",
    "            \n",
    "    return [rangeStart, rangeEnd]"
   ]
  },
  {
   "cell_type": "code",
   "execution_count": 2,
   "metadata": {},
   "outputs": [
    {
     "data": {
      "text/plain": [
       "[4, 7]"
      ]
     },
     "execution_count": 2,
     "metadata": {},
     "output_type": "execute_result"
    }
   ],
   "source": [
    "find_smallest_range([[1,5,8],[4,12],[7,8,10]])"
   ]
  }
 ],
 "metadata": {
  "kernelspec": {
   "display_name": "Python 3",
   "language": "python",
   "name": "python3"
  },
  "language_info": {
   "codemirror_mode": {
    "name": "ipython",
    "version": 3
   },
   "file_extension": ".py",
   "mimetype": "text/x-python",
   "name": "python",
   "nbconvert_exporter": "python",
   "pygments_lexer": "ipython3",
   "version": "3.7.6"
  }
 },
 "nbformat": 4,
 "nbformat_minor": 4
}
