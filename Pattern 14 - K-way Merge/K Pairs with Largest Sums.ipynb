{
 "cells": [
  {
   "cell_type": "code",
   "execution_count": 1,
   "metadata": {},
   "outputs": [],
   "source": [
    "from heapq import *\n",
    "\n",
    "def find_k_largest_pairs(nums1,nums2,k):\n",
    "    minheap = []\n",
    "    for i in range(0,min(k,len(nums1))):\n",
    "        for j in range(min(k,len(nums2))):\n",
    "            if len(minheap) < k:\n",
    "                heappush(minheap,(nums1[i]+nums2[j],i,j))\n",
    "            else:\n",
    "                if nums1[i] + nums2[j] < minheap[0][0]:\n",
    "                    break\n",
    "                else:\n",
    "                    heappop(minheap)\n",
    "                    heappush(minheap,(nums1[i]+nums2[j],i,j))\n",
    "    result = []\n",
    "    for num,i,j in minheap:\n",
    "        result.append([nums1[i],nums2[j]])\n",
    "    \n",
    "    return result"
   ]
  },
  {
   "cell_type": "code",
   "execution_count": 2,
   "metadata": {},
   "outputs": [
    {
     "data": {
      "text/plain": [
       "[[9, 3], [9, 6], [8, 6]]"
      ]
     },
     "execution_count": 2,
     "metadata": {},
     "output_type": "execute_result"
    }
   ],
   "source": [
    "find_k_largest_pairs([9,8,2],[6,3,1],3)#"
   ]
  }
 ],
 "metadata": {
  "kernelspec": {
   "display_name": "Python 3",
   "language": "python",
   "name": "python3"
  },
  "language_info": {
   "codemirror_mode": {
    "name": "ipython",
    "version": 3
   },
   "file_extension": ".py",
   "mimetype": "text/x-python",
   "name": "python",
   "nbconvert_exporter": "python",
   "pygments_lexer": "ipython3",
   "version": "3.7.6"
  }
 },
 "nbformat": 4,
 "nbformat_minor": 4
}
