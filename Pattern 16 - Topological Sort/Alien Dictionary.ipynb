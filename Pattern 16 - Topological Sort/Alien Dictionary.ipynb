{
 "cells": [
  {
   "cell_type": "code",
   "execution_count": 1,
   "metadata": {},
   "outputs": [],
   "source": [
    "from collections import deque\n",
    "\n",
    "def find_order(words):\n",
    "    if len(words) == 0:\n",
    "        return ''\n",
    "    \n",
    "    inDegree = {}\n",
    "    graph = {}\n",
    "    \n",
    "    for word in words:\n",
    "        for character in word:\n",
    "            inDegree[character] = 0\n",
    "            graph[character] = []\n",
    "    \n",
    "    for i in range(0,len(words)-1):\n",
    "        w1,w2 = words[i],words[i+1]\n",
    "        for j in range(0,min(len(w1),len(w2))):\n",
    "            parent,child = w1[j], w2[j]\n",
    "            if parent != child:\n",
    "                graph[parent].append(child)\n",
    "                inDegree[child] += 1\n",
    "                break\n",
    "    sources = deque()\n",
    "    for key in inDegree:\n",
    "        if inDegree[key] == 0:\n",
    "            sources.append(key)\n",
    "    \n",
    "    sortedOrder = []\n",
    "    while sources:\n",
    "        vertex = sources.popleft()\n",
    "        sortedOrder.append(vertex)\n",
    "        for child in graph[vertex]:\n",
    "            inDegree[child] -= 1\n",
    "            if inDegree[child] == 0:\n",
    "                sources.append(child)\n",
    "                \n",
    "    if len(sortedOrder) != len(inDegree):\n",
    "        return \"\"\n",
    "    \n",
    "    return ''.join(sortedOrder)"
   ]
  },
  {
   "cell_type": "code",
   "execution_count": 2,
   "metadata": {},
   "outputs": [
    {
     "data": {
      "text/plain": [
       "'bac'"
      ]
     },
     "execution_count": 2,
     "metadata": {},
     "output_type": "execute_result"
    }
   ],
   "source": [
    "find_order([\"ba\",\"bc\",\"ac\",\"cab\"])"
   ]
  }
 ],
 "metadata": {
  "kernelspec": {
   "display_name": "Python 3",
   "language": "python",
   "name": "python3"
  },
  "language_info": {
   "codemirror_mode": {
    "name": "ipython",
    "version": 3
   },
   "file_extension": ".py",
   "mimetype": "text/x-python",
   "name": "python",
   "nbconvert_exporter": "python",
   "pygments_lexer": "ipython3",
   "version": "3.7.6"
  }
 },
 "nbformat": 4,
 "nbformat_minor": 4
}
