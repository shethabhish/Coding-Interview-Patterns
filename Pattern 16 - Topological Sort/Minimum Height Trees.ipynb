{
 "cells": [
  {
   "cell_type": "code",
   "execution_count": 1,
   "metadata": {},
   "outputs": [],
   "source": [
    "from collections import deque\n",
    "\n",
    "def find_trees(nodes, edges):\n",
    "    if nodes <= 0:\n",
    "        return []\n",
    "    \n",
    "    if nodes == 1:\n",
    "        return [0]\n",
    "    \n",
    "    inDegree = {i:0 for i in range(nodes)}\n",
    "    graph = {i:[] for i in range(nodes)}    \n",
    "    \n",
    "    for edge in edges:\n",
    "        n1,n2 = edge[0],edge[1]\n",
    "        graph[n1].append(n2)\n",
    "        graph[n2].append(n1)\n",
    "        \n",
    "        inDegree[n1] += 1\n",
    "        inDegree[n2] += 1\n",
    "    \n",
    "    leaves = deque()\n",
    "    for key in inDegree:\n",
    "        if inDegree[key] == 1:\n",
    "            leaves.append(key)\n",
    "    \n",
    "    totalnodes = nodes\n",
    "    while totalnodes > 2:\n",
    "        leavessize = len(leaves)\n",
    "        totalnodes -= leavessize\n",
    "        for i in range(0,leavessize):\n",
    "            vertex = leaves.popleft()\n",
    "            for child in graph[vertex]:\n",
    "                inDegree[child] -= 1\n",
    "                if inDegree[child] == 1:\n",
    "                    leaves.append(child)\n",
    "    return list(leaves)"
   ]
  },
  {
   "cell_type": "code",
   "execution_count": 2,
   "metadata": {},
   "outputs": [
    {
     "data": {
      "text/plain": [
       "[1, 2]"
      ]
     },
     "execution_count": 2,
     "metadata": {},
     "output_type": "execute_result"
    }
   ],
   "source": [
    "find_trees(5, [[0,1],[1,2],[1,3],[2,4]])"
   ]
  }
 ],
 "metadata": {
  "kernelspec": {
   "display_name": "Python 3",
   "language": "python",
   "name": "python3"
  },
  "language_info": {
   "codemirror_mode": {
    "name": "ipython",
    "version": 3
   },
   "file_extension": ".py",
   "mimetype": "text/x-python",
   "name": "python",
   "nbconvert_exporter": "python",
   "pygments_lexer": "ipython3",
   "version": "3.7.6"
  }
 },
 "nbformat": 4,
 "nbformat_minor": 4
}
