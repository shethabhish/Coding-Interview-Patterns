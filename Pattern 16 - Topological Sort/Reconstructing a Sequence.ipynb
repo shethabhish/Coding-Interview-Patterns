{
 "cells": [
  {
   "cell_type": "code",
   "execution_count": 1,
   "metadata": {},
   "outputs": [],
   "source": [
    "from collections import deque\n",
    "\n",
    "def can_construct(originalseq,sequences):\n",
    "    sortedOrder = []\n",
    "    if len(originalseq) <= 0:\n",
    "        return False\n",
    "    \n",
    "    inDegree = {}\n",
    "    graph = {}\n",
    "    \n",
    "    for sequence in sequences:\n",
    "        for num in sequence:\n",
    "            inDegree[num] = 0\n",
    "            graph[num] = []\n",
    "    \n",
    "    for sequence in sequences:\n",
    "        for i in range(1,len(sequence)):\n",
    "            parent,child = sequence[i-1],sequence[i]\n",
    "            graph[parent].append(child)\n",
    "            inDegree[child] += 1\n",
    "    if len(inDegree) != len(originalseq):\n",
    "        return False\n",
    "    \n",
    "    sources = deque()\n",
    "    for key in inDegree:\n",
    "        if inDegree[key] == 0:\n",
    "            sources.append(key)\n",
    "    while sources:\n",
    "        if len(sources) > 1:\n",
    "            return False\n",
    "        if originalseq[len(sortedOrder)] != sources[0]:\n",
    "            return False\n",
    "        \n",
    "        vertex = sources.popleft()\n",
    "        sortedOrder.append(vertex)\n",
    "        for child in graph[vertex]:\n",
    "            inDegree[child] -= 1\n",
    "            if inDegree[child] == 0:\n",
    "                sources.append(child)\n",
    "                \n",
    "    return len(sortedOrder) == len(originalseq)"
   ]
  },
  {
   "cell_type": "code",
   "execution_count": 2,
   "metadata": {},
   "outputs": [
    {
     "data": {
      "text/plain": [
       "True"
      ]
     },
     "execution_count": 2,
     "metadata": {},
     "output_type": "execute_result"
    }
   ],
   "source": [
    "can_construct([1,2,3,4],[[1,2],[2,3],[3,4]])"
   ]
  }
 ],
 "metadata": {
  "kernelspec": {
   "display_name": "Python 3",
   "language": "python",
   "name": "python3"
  },
  "language_info": {
   "codemirror_mode": {
    "name": "ipython",
    "version": 3
   },
   "file_extension": ".py",
   "mimetype": "text/x-python",
   "name": "python",
   "nbconvert_exporter": "python",
   "pygments_lexer": "ipython3",
   "version": "3.7.6"
  }
 },
 "nbformat": 4,
 "nbformat_minor": 4
}
