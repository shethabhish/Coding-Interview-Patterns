{
 "cells": [
  {
   "cell_type": "code",
   "execution_count": 1,
   "metadata": {},
   "outputs": [],
   "source": [
    "from collections import deque\n",
    "\n",
    "def print_order(tasks,prerequisites):\n",
    "    sortedOrder = []\n",
    "    if tasks <= 0:\n",
    "        return sortedOrder\n",
    "    \n",
    "    inDegree = {i:0 for i in range(tasks)}\n",
    "    graph = {i:[] for i in range(tasks)}    \n",
    "    \n",
    "    for prereq in prerequisites:\n",
    "        parent, child = prereq[0], prereq[1]\n",
    "        graph[parent].append(child)\n",
    "        inDegree[child] += 1\n",
    "    \n",
    "    sources = deque()\n",
    "    for key in inDegree:\n",
    "        if inDegree[key] == 0:\n",
    "            sources.append(key)\n",
    "            \n",
    "    print_all_orders(graph,inDegree,sources,sortedOrder)"
   ]
  },
  {
   "cell_type": "code",
   "execution_count": 2,
   "metadata": {},
   "outputs": [],
   "source": [
    "def print_all_orders(graph,inDegree,sources,sortedOrder):\n",
    "    if sources:\n",
    "        for vertex in sources:\n",
    "            sortedOrder.append(vertex)\n",
    "            sourcesForNextCall = deque(sources)\n",
    "            sourcesForNextCall.remove(vertex)\n",
    "            \n",
    "            for child in graph[vertex]:\n",
    "                inDegree[child] -= 1\n",
    "                if inDegree[child] == 0:\n",
    "                    sourcesForNextCall.append(child)\n",
    "                    \n",
    "            print_all_orders(graph,inDegree,sourcesForNextCall,sortedOrder)   \n",
    "            \n",
    "            sortedOrder.remove(vertex)\n",
    "            for child in graph[vertex]:\n",
    "                inDegree[child] += 1\n",
    "    if len(sortedOrder) == len(inDegree):\n",
    "        print(sortedOrder)"
   ]
  },
  {
   "cell_type": "code",
   "execution_count": 3,
   "metadata": {},
   "outputs": [
    {
     "name": "stdout",
     "output_type": "stream",
     "text": [
      "[0, 1, 4, 3, 2, 5]\n",
      "[0, 1, 3, 4, 2, 5]\n",
      "[0, 1, 3, 2, 4, 5]\n",
      "[0, 1, 3, 2, 5, 4]\n",
      "[1, 0, 3, 4, 2, 5]\n",
      "[1, 0, 3, 2, 4, 5]\n",
      "[1, 0, 3, 2, 5, 4]\n",
      "[1, 0, 4, 3, 2, 5]\n",
      "[1, 3, 0, 2, 4, 5]\n",
      "[1, 3, 0, 2, 5, 4]\n",
      "[1, 3, 0, 4, 2, 5]\n",
      "[1, 3, 2, 0, 5, 4]\n",
      "[1, 3, 2, 0, 4, 5]\n"
     ]
    }
   ],
   "source": [
    "print_order(6,[[2, 5], [0, 5], [0, 4], [1, 4], [3, 2], [1, 3]])"
   ]
  }
 ],
 "metadata": {
  "kernelspec": {
   "display_name": "Python 3",
   "language": "python",
   "name": "python3"
  },
  "language_info": {
   "codemirror_mode": {
    "name": "ipython",
    "version": 3
   },
   "file_extension": ".py",
   "mimetype": "text/x-python",
   "name": "python",
   "nbconvert_exporter": "python",
   "pygments_lexer": "ipython3",
   "version": "3.7.6"
  }
 },
 "nbformat": 4,
 "nbformat_minor": 4
}
