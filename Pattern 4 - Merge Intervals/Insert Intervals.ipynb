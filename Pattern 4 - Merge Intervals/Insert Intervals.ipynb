{
 "cells": [
  {
   "cell_type": "code",
   "execution_count": 1,
   "metadata": {},
   "outputs": [],
   "source": [
    "def insert(intervals,new_interval):\n",
    "    merged = []\n",
    "    i,start,end = 0,0,1\n",
    "    \n",
    "    while i < len(intervals) and intervals[i][end] < new_interval[start]:\n",
    "        merged.append(intervals[i])\n",
    "        i+=1\n",
    "    while i < len(intervals) and intervals[i][start] <= new_interval[end]:\n",
    "        new_interval[start] = min(intervals[i][start], new_interval[start])\n",
    "        new_interval[end] = max(intervals[i][end], new_interval[end])\n",
    "        i+=1\n",
    "    merged.append(new_interval)\n",
    "    \n",
    "    while i < len(intervals):\n",
    "        merged.append(intervals[i])\n",
    "        i+=1\n",
    "    return merged"
   ]
  },
  {
   "cell_type": "code",
   "execution_count": 2,
   "metadata": {},
   "outputs": [
    {
     "data": {
      "text/plain": [
       "[[1, 3], [4, 7], [8, 12]]"
      ]
     },
     "execution_count": 2,
     "metadata": {},
     "output_type": "execute_result"
    }
   ],
   "source": [
    "insert([[1,3], [5,7], [8,12]],[4,6])"
   ]
  }
 ],
 "metadata": {
  "kernelspec": {
   "display_name": "Python 3",
   "language": "python",
   "name": "python3"
  },
  "language_info": {
   "codemirror_mode": {
    "name": "ipython",
    "version": 3
   },
   "file_extension": ".py",
   "mimetype": "text/x-python",
   "name": "python",
   "nbconvert_exporter": "python",
   "pygments_lexer": "ipython3",
   "version": "3.7.6"
  }
 },
 "nbformat": 4,
 "nbformat_minor": 4
}
