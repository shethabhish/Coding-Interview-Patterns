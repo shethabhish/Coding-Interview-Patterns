{
 "cells": [
  {
   "cell_type": "code",
   "execution_count": 1,
   "metadata": {},
   "outputs": [],
   "source": [
    "from heapq import *\n",
    "def cpu_load(loads):\n",
    "    maxload,currentload = 0,0\n",
    "    minheap = []\n",
    "    \n",
    "    for j in loads:\n",
    "        while len(minheap)>0 and j[0] >= minheap[0][1]:\n",
    "            currentload -= minheap[0][2]\n",
    "            heappop(minheap)\n",
    "        heappush(minheap,j)\n",
    "        currentload += j[2]\n",
    "        maxload = max(maxload,currentload)\n",
    "    return maxload"
   ]
  },
  {
   "cell_type": "code",
   "execution_count": 2,
   "metadata": {},
   "outputs": [
    {
     "data": {
      "text/plain": [
       "8"
      ]
     },
     "execution_count": 2,
     "metadata": {},
     "output_type": "execute_result"
    }
   ],
   "source": [
    "cpu_load([[1,4,2], [2,4,1], [3,6,5]])"
   ]
  }
 ],
 "metadata": {
  "kernelspec": {
   "display_name": "Python 3",
   "language": "python",
   "name": "python3"
  },
  "language_info": {
   "codemirror_mode": {
    "name": "ipython",
    "version": 3
   },
   "file_extension": ".py",
   "mimetype": "text/x-python",
   "name": "python",
   "nbconvert_exporter": "python",
   "pygments_lexer": "ipython3",
   "version": "3.7.6"
  }
 },
 "nbformat": 4,
 "nbformat_minor": 4
}
