{
 "cells": [
  {
   "cell_type": "code",
   "execution_count": 1,
   "metadata": {},
   "outputs": [],
   "source": [
    "class Interval:\n",
    "    def __init__(self,start,end):\n",
    "        self.start = start\n",
    "        self.end = end\n",
    "        \n",
    "    def print_interval(self):\n",
    "        print(\"[\" +str(self.start) + \", \" +str(self.end) + \"]\", end='')"
   ]
  },
  {
   "cell_type": "code",
   "execution_count": 2,
   "metadata": {},
   "outputs": [],
   "source": [
    "def merge(intervals):\n",
    "    if len(intervals) < 2:\n",
    "        return intervals\n",
    "    \n",
    "    intervals.sort(key=lambda x: x.start)\n",
    "    merged = []\n",
    "    start = intervals[0].start\n",
    "    end = intervals[0].end\n",
    "    for i in range(1,len(intervals)):\n",
    "        interval = intervals[i]\n",
    "        if interval.start <= end:\n",
    "            end = max(interval.end, end)\n",
    "        else:\n",
    "            merged.append(Interval(start,end))\n",
    "            start = interval.start\n",
    "            end = interval.end\n",
    "    merged.append(Interval(start,end))\n",
    "    return merged"
   ]
  },
  {
   "cell_type": "code",
   "execution_count": 3,
   "metadata": {},
   "outputs": [
    {
     "name": "stdout",
     "output_type": "stream",
     "text": [
      "[1, 5][7, 9]\n"
     ]
    }
   ],
   "source": [
    "for i in merge([Interval(1,4),Interval(2,5),Interval(7,9)]):\n",
    "    i.print_interval()\n",
    "print()"
   ]
  },
  {
   "cell_type": "code",
   "execution_count": 7,
   "metadata": {},
   "outputs": [],
   "source": [
    "def merge1(intervals):\n",
    "    intervals.sort(key=lambda x:x[0])\n",
    "    i=1\n",
    "    while i < len(intervals):\n",
    "        if intervals[i][0] <= intervals[i-1][1]:\n",
    "            intervals[i-1][0] = min(intervals[i-1][0],intervals[i][0])\n",
    "            intervals[i-1][1] = max(intervals[i-1][1],intervals[i][1])\n",
    "            \n",
    "            intervals.pop(i)\n",
    "        else:\n",
    "            i+=1\n",
    "    return intervals"
   ]
  },
  {
   "cell_type": "code",
   "execution_count": 8,
   "metadata": {},
   "outputs": [
    {
     "name": "stdout",
     "output_type": "stream",
     "text": [
      "[[1, 4], [2, 5], [7, 9]]\n"
     ]
    },
    {
     "data": {
      "text/plain": [
       "[[1, 5], [7, 9]]"
      ]
     },
     "execution_count": 8,
     "metadata": {},
     "output_type": "execute_result"
    }
   ],
   "source": [
    "merge1([[2,5],[1,4],[7,9]])"
   ]
  },
  {
   "cell_type": "code",
   "execution_count": null,
   "metadata": {},
   "outputs": [],
   "source": []
  }
 ],
 "metadata": {
  "kernelspec": {
   "display_name": "Python 3",
   "language": "python",
   "name": "python3"
  },
  "language_info": {
   "codemirror_mode": {
    "name": "ipython",
    "version": 3
   },
   "file_extension": ".py",
   "mimetype": "text/x-python",
   "name": "python",
   "nbconvert_exporter": "python",
   "pygments_lexer": "ipython3",
   "version": "3.7.6"
  }
 },
 "nbformat": 4,
 "nbformat_minor": 4
}
