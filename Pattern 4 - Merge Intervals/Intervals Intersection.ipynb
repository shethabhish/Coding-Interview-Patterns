{
 "cells": [
  {
   "cell_type": "code",
   "execution_count": 1,
   "metadata": {},
   "outputs": [],
   "source": [
    "def merge(a,b):\n",
    "    result = []\n",
    "    i,j,start,end = 0,0,0,1\n",
    "    while i < len(a) and j < len(b):\n",
    "        aoverlap =  a[i][start] >= b[j][start] and a[i][start] <= b[j][end]\n",
    "        boverlap = b[j][start] >= a[i][start] and b[j][start] < a[i][end]\n",
    "        \n",
    "        if aoverlap or boverlap:\n",
    "            result.append([max(a[i][start],b[j][start]),min(a[i][end],b[j][end])])\n",
    "        \n",
    "        if a[i][end] < b[j][end]:\n",
    "            i+=1\n",
    "        else:\n",
    "            j+=1\n",
    "    return result"
   ]
  },
  {
   "cell_type": "code",
   "execution_count": 2,
   "metadata": {},
   "outputs": [
    {
     "data": {
      "text/plain": [
       "[[2, 3], [5, 6], [7, 7]]"
      ]
     },
     "execution_count": 2,
     "metadata": {},
     "output_type": "execute_result"
    }
   ],
   "source": [
    "merge([[1, 3], [5, 6], [7, 9]],[[2, 3], [5, 7]])"
   ]
  }
 ],
 "metadata": {
  "kernelspec": {
   "display_name": "Python 3",
   "language": "python",
   "name": "python3"
  },
  "language_info": {
   "codemirror_mode": {
    "name": "ipython",
    "version": 3
   },
   "file_extension": ".py",
   "mimetype": "text/x-python",
   "name": "python",
   "nbconvert_exporter": "python",
   "pygments_lexer": "ipython3",
   "version": "3.7.6"
  }
 },
 "nbformat": 4,
 "nbformat_minor": 4
}
