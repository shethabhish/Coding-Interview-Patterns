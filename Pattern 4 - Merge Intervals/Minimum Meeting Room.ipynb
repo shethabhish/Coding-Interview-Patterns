{
 "cells": [
  {
   "cell_type": "code",
   "execution_count": 1,
   "metadata": {},
   "outputs": [],
   "source": [
    "from heapq import *\n",
    "def min_meeting(meetings):\n",
    "    meetings.sort(key=lambda x: x[0])\n",
    "    \n",
    "    minrooms = 0\n",
    "    minheap = []\n",
    "    \n",
    "    for meeting in meetings:\n",
    "        while (len(minheap) > 0 and meeting[0] >= minheap[0][1]):\n",
    "            heappop(minheap)\n",
    "        \n",
    "        heappush(minheap, meeting)\n",
    "        \n",
    "        minrooms = max(minrooms, len(minheap))\n",
    "    return minrooms"
   ]
  },
  {
   "cell_type": "code",
   "execution_count": 2,
   "metadata": {},
   "outputs": [
    {
     "data": {
      "text/plain": [
       "1"
      ]
     },
     "execution_count": 2,
     "metadata": {},
     "output_type": "execute_result"
    }
   ],
   "source": [
    " min_meeting([[6,7], [2,4], [8,12]])"
   ]
  }
 ],
 "metadata": {
  "kernelspec": {
   "display_name": "Python 3",
   "language": "python",
   "name": "python3"
  },
  "language_info": {
   "codemirror_mode": {
    "name": "ipython",
    "version": 3
   },
   "file_extension": ".py",
   "mimetype": "text/x-python",
   "name": "python",
   "nbconvert_exporter": "python",
   "pygments_lexer": "ipython3",
   "version": "3.7.6"
  }
 },
 "nbformat": 4,
 "nbformat_minor": 4
}
