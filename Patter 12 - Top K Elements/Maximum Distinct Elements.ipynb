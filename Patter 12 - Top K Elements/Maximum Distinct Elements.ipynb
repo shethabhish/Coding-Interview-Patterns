{
 "cells": [
  {
   "cell_type": "code",
   "execution_count": 1,
   "metadata": {},
   "outputs": [],
   "source": [
    "from heapq import *\n",
    "\n",
    "def find_maximum_distinct_elements(nums,k):\n",
    "    distinctelements = 0\n",
    "    if len(nums) <= k:\n",
    "        return distinctelements\n",
    "    \n",
    "    num_freq = {}\n",
    "    for i in nums:\n",
    "        if i not in num_freq:\n",
    "            num_freq[i] = 0\n",
    "        num_freq[i] += 1\n",
    "    \n",
    "    minheap = []\n",
    "    \n",
    "    for num,freq in num_freq.items():\n",
    "        if freq == 1:\n",
    "            distinctelements += 1\n",
    "        else:\n",
    "            heappush(minheap,(freq,num))\n",
    "            \n",
    "    while k>0 and minheap:\n",
    "        freq,num = heappop(minheap)\n",
    "        k -= freq - 1\n",
    "        if k >= 0:\n",
    "            distinctelements += 1\n",
    "    \n",
    "    if k > 0:\n",
    "        distinctelements -= k\n",
    "    \n",
    "    return distinctelements"
   ]
  },
  {
   "cell_type": "code",
   "execution_count": 2,
   "metadata": {},
   "outputs": [
    {
     "data": {
      "text/plain": [
       "2"
      ]
     },
     "execution_count": 2,
     "metadata": {},
     "output_type": "execute_result"
    }
   ],
   "source": [
    "find_maximum_distinct_elements([3, 5, 12, 11, 12],3)"
   ]
  }
 ],
 "metadata": {
  "kernelspec": {
   "display_name": "Python 3",
   "language": "python",
   "name": "python3"
  },
  "language_info": {
   "codemirror_mode": {
    "name": "ipython",
    "version": 3
   },
   "file_extension": ".py",
   "mimetype": "text/x-python",
   "name": "python",
   "nbconvert_exporter": "python",
   "pygments_lexer": "ipython3",
   "version": "3.7.6"
  }
 },
 "nbformat": 4,
 "nbformat_minor": 4
}
