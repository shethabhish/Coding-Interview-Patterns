{
 "cells": [
  {
   "cell_type": "code",
   "execution_count": 1,
   "metadata": {},
   "outputs": [],
   "source": [
    "from heapq import *\n",
    "from collections import deque\n",
    "\n",
    "def reorder(s,k):\n",
    "    if k <= 1:\n",
    "        return s\n",
    "    \n",
    "    charfreq={}\n",
    "    for i in s:\n",
    "        if i not in charfreq:\n",
    "            charfreq[i] = 0\n",
    "        charfreq[i] += 1\n",
    "    \n",
    "    maxheap = []\n",
    "    \n",
    "    for char,freq in charfreq.items():\n",
    "        heappush(maxheap,(-freq,char))\n",
    "    \n",
    "    result = []\n",
    "    queue = deque()\n",
    "    \n",
    "    while maxheap:\n",
    "        freq,char = heappop(maxheap)\n",
    "        result.append(char)\n",
    "        \n",
    "        queue.append((char,freq+1))\n",
    "        if len(queue) == k:\n",
    "            char,freq = queue.popleft()\n",
    "            if -freq > 0:\n",
    "                heappush(maxheap,(freq,char))\n",
    "    return ''.join(result) if len(result) == len(s) else \"\""
   ]
  },
  {
   "cell_type": "code",
   "execution_count": 2,
   "metadata": {},
   "outputs": [],
   "source": [
    "reorder('mmpp',2)"
   ]
  },
  {
   "cell_type": "code",
   "execution_count": 3,
   "metadata": {},
   "outputs": [],
   "source": [
    "reorder('Programming',3)"
   ]
  },
  {
   "cell_type": "code",
   "execution_count": 4,
   "metadata": {},
   "outputs": [
    {
     "data": {
      "text/plain": [
       "'aba'"
      ]
     },
     "execution_count": 4,
     "metadata": {},
     "output_type": "execute_result"
    }
   ],
   "source": [
    "reorder('aab',2)"
   ]
  },
  {
   "cell_type": "code",
   "execution_count": 5,
   "metadata": {},
   "outputs": [
    {
     "data": {
      "text/plain": [
       "''"
      ]
     },
     "execution_count": 5,
     "metadata": {},
     "output_type": "execute_result"
    }
   ],
   "source": [
    "reorder('aapa',3)"
   ]
  }
 ],
 "metadata": {
  "kernelspec": {
   "display_name": "Python 3",
   "language": "python",
   "name": "python3"
  },
  "language_info": {
   "codemirror_mode": {
    "name": "ipython",
    "version": 3
   },
   "file_extension": ".py",
   "mimetype": "text/x-python",
   "name": "python",
   "nbconvert_exporter": "python",
   "pygments_lexer": "ipython3",
   "version": "3.7.6"
  }
 },
 "nbformat": 4,
 "nbformat_minor": 4
}
