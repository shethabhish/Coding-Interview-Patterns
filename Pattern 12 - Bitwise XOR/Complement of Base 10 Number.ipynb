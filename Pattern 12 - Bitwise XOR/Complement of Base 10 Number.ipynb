{
 "cells": [
  {
   "cell_type": "code",
   "execution_count": 1,
   "metadata": {},
   "outputs": [],
   "source": [
    "def bitwise_compliment(n):\n",
    "    binary = list(bin(n).replace(\"0b\",\"\"))\n",
    "    \n",
    "    for i in range(len(binary)):\n",
    "        if binary[i] == '0':\n",
    "            binary[i] = '1'\n",
    "        else:\n",
    "            binary[i] = '0'\n",
    "    binary = ''.join(binary)\n",
    "    return int(binary,2)"
   ]
  },
  {
   "cell_type": "code",
   "execution_count": 2,
   "metadata": {},
   "outputs": [
    {
     "data": {
      "text/plain": [
       "7"
      ]
     },
     "execution_count": 2,
     "metadata": {},
     "output_type": "execute_result"
    }
   ],
   "source": [
    "bitwise_compliment(8)"
   ]
  },
  {
   "cell_type": "code",
   "execution_count": 3,
   "metadata": {},
   "outputs": [],
   "source": [
    "def bitwise_compliment(num):\n",
    "    bit_count, n = 0, num\n",
    "    while n > 0:\n",
    "        bit_count += 1\n",
    "        n = n >> 1\n",
    "    \n",
    "    all_bits_set = pow(2,bit_count) - 1\n",
    "    \n",
    "    return num ^ all_bits_set"
   ]
  },
  {
   "cell_type": "code",
   "execution_count": 4,
   "metadata": {},
   "outputs": [
    {
     "data": {
      "text/plain": [
       "7"
      ]
     },
     "execution_count": 4,
     "metadata": {},
     "output_type": "execute_result"
    }
   ],
   "source": [
    "bitwise_compliment(8)"
   ]
  }
 ],
 "metadata": {
  "kernelspec": {
   "display_name": "Python 3",
   "language": "python",
   "name": "python3"
  },
  "language_info": {
   "codemirror_mode": {
    "name": "ipython",
    "version": 3
   },
   "file_extension": ".py",
   "mimetype": "text/x-python",
   "name": "python",
   "nbconvert_exporter": "python",
   "pygments_lexer": "ipython3",
   "version": "3.7.6"
  }
 },
 "nbformat": 4,
 "nbformat_minor": 4
}
