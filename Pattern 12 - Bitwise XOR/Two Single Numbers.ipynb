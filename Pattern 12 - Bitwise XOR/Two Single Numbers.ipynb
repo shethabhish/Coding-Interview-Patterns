{
 "cells": [
  {
   "cell_type": "code",
   "execution_count": 1,
   "metadata": {},
   "outputs": [],
   "source": [
    "def find_single_numbers(nums):\n",
    "    n1xn2 = 0 \n",
    "    for num in nums:\n",
    "        n1xn2 ^=num\n",
    "    \n",
    "    rightmost_set_bit = 1\n",
    "    while (rightmost_set_bit & n1xn2) == 0:\n",
    "        rightmost_set_bit = rightmost_set_bit << 1\n",
    "    num1,num2 = 0,0 \n",
    "    \n",
    "    for num in nums:\n",
    "        if (num & rightmost_set_bit) != 0:\n",
    "            num1^= num\n",
    "        else:\n",
    "            num2^= num\n",
    "        \n",
    "    return [num1,num2]"
   ]
  },
  {
   "cell_type": "code",
   "execution_count": 2,
   "metadata": {},
   "outputs": [
    {
     "data": {
      "text/plain": [
       "[6, 4]"
      ]
     },
     "execution_count": 2,
     "metadata": {},
     "output_type": "execute_result"
    }
   ],
   "source": [
    "find_single_numbers([1, 4, 2, 1, 3, 5, 6, 2, 3, 5,9,9)])"
   ]
  }
 ],
 "metadata": {
  "kernelspec": {
   "display_name": "Python 3",
   "language": "python",
   "name": "python3"
  },
  "language_info": {
   "codemirror_mode": {
    "name": "ipython",
    "version": 3
   },
   "file_extension": ".py",
   "mimetype": "text/x-python",
   "name": "python",
   "nbconvert_exporter": "python",
   "pygments_lexer": "ipython3",
   "version": "3.7.6"
  }
 },
 "nbformat": 4,
 "nbformat_minor": 4
}
