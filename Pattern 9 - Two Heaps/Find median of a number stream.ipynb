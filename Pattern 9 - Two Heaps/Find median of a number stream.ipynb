{
 "cells": [
  {
   "cell_type": "code",
   "execution_count": 1,
   "metadata": {},
   "outputs": [],
   "source": [
    "class MedianOfAStream:\n",
    "    def __init__(self):\n",
    "        self.items = []\n",
    "    def insert_num(self,num):\n",
    "        self.num = num\n",
    "        self.items.append(num)\n",
    "    def find_median(self):\n",
    "        self.items.sort()\n",
    "        length = len(self.items)\n",
    "        if length < 2:\n",
    "            return self.items\n",
    "        elif length == 2:\n",
    "            return int(sum(self.items)/2)\n",
    "        elif length % 2 == 0:\n",
    "            middle = int(length/2)\n",
    "            return (self.items[middle-1] + self.items[middle])/2\n",
    "        else:\n",
    "            return self.items[length//2]"
   ]
  },
  {
   "cell_type": "code",
   "execution_count": 2,
   "metadata": {},
   "outputs": [],
   "source": [
    "vals = MedianOfAStream()\n",
    "vals.insert_num(3)\n",
    "vals.insert_num(1)"
   ]
  },
  {
   "cell_type": "code",
   "execution_count": 3,
   "metadata": {},
   "outputs": [
    {
     "data": {
      "text/plain": [
       "2"
      ]
     },
     "execution_count": 3,
     "metadata": {},
     "output_type": "execute_result"
    }
   ],
   "source": [
    "vals.find_median()"
   ]
  },
  {
   "cell_type": "code",
   "execution_count": 4,
   "metadata": {},
   "outputs": [
    {
     "data": {
      "text/plain": [
       "3"
      ]
     },
     "execution_count": 4,
     "metadata": {},
     "output_type": "execute_result"
    }
   ],
   "source": [
    "vals.insert_num(5)\n",
    "vals.find_median()"
   ]
  },
  {
   "cell_type": "code",
   "execution_count": 5,
   "metadata": {},
   "outputs": [
    {
     "data": {
      "text/plain": [
       "3.5"
      ]
     },
     "execution_count": 5,
     "metadata": {},
     "output_type": "execute_result"
    }
   ],
   "source": [
    "vals.insert_num(4)\n",
    "vals.find_median()"
   ]
  },
  {
   "cell_type": "code",
   "execution_count": 6,
   "metadata": {},
   "outputs": [],
   "source": [
    "from heapq import *\n",
    "class median:\n",
    "    \n",
    "    maxheap = []\n",
    "    minheap = []\n",
    "    \n",
    "    def insert_num(self,num):\n",
    "        if not self.maxheap or -self.maxheap[0] >= num:\n",
    "            heappush(self.maxheap, -num)\n",
    "        else:\n",
    "            heappush(self.minheap, num)\n",
    "        \n",
    "        if len(self.maxheap) > len(self.minheap) + 1:\n",
    "            heappush(self.minheap, -heappop(self.maxheap))\n",
    "        elif len(self.maxheap) < len(self.minheap):\n",
    "            heappush(self.maxheap,-heappop(self.minheap))\n",
    "    \n",
    "    def find_median(self):\n",
    "        if len(self.maxheap) == len(self.minheap):\n",
    "            return -self.maxheap[0]/2.0 + self.minheap[0]/2.0\n",
    "        else:\n",
    "            return -self.maxheap[0]/1.0"
   ]
  },
  {
   "cell_type": "code",
   "execution_count": 7,
   "metadata": {},
   "outputs": [],
   "source": [
    "val = median()"
   ]
  },
  {
   "cell_type": "code",
   "execution_count": 8,
   "metadata": {},
   "outputs": [],
   "source": [
    "val.insert_num(3)\n",
    "val.insert_num(1)"
   ]
  },
  {
   "cell_type": "code",
   "execution_count": 9,
   "metadata": {},
   "outputs": [
    {
     "data": {
      "text/plain": [
       "2.0"
      ]
     },
     "execution_count": 9,
     "metadata": {},
     "output_type": "execute_result"
    }
   ],
   "source": [
    "val.find_median()"
   ]
  },
  {
   "cell_type": "code",
   "execution_count": 10,
   "metadata": {},
   "outputs": [],
   "source": [
    "val.insert_num(5)"
   ]
  },
  {
   "cell_type": "code",
   "execution_count": 11,
   "metadata": {},
   "outputs": [
    {
     "data": {
      "text/plain": [
       "3.0"
      ]
     },
     "execution_count": 11,
     "metadata": {},
     "output_type": "execute_result"
    }
   ],
   "source": [
    "val.find_median()"
   ]
  },
  {
   "cell_type": "code",
   "execution_count": 12,
   "metadata": {},
   "outputs": [],
   "source": [
    "val.insert_num(4)"
   ]
  },
  {
   "cell_type": "code",
   "execution_count": 13,
   "metadata": {},
   "outputs": [
    {
     "data": {
      "text/plain": [
       "3.5"
      ]
     },
     "execution_count": 13,
     "metadata": {},
     "output_type": "execute_result"
    }
   ],
   "source": [
    "val.find_median()"
   ]
  }
 ],
 "metadata": {
  "kernelspec": {
   "display_name": "Python 3",
   "language": "python",
   "name": "python3"
  },
  "language_info": {
   "codemirror_mode": {
    "name": "ipython",
    "version": 3
   },
   "file_extension": ".py",
   "mimetype": "text/x-python",
   "name": "python",
   "nbconvert_exporter": "python",
   "pygments_lexer": "ipython3",
   "version": "3.7.6"
  }
 },
 "nbformat": 4,
 "nbformat_minor": 4
}
