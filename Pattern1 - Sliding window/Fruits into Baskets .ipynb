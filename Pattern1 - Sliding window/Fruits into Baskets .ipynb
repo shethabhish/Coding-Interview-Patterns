{
 "cells": [
  {
   "cell_type": "code",
   "execution_count": 9,
   "metadata": {},
   "outputs": [],
   "source": [
    "def fruits_into_baskets(fruits):\n",
    "    windowstart = 0\n",
    "    maxlength = 0\n",
    "    fruitfrequency = {}\n",
    "    \n",
    "    for windowend in range(len(fruits)):\n",
    "        rightfruit = fruits[windowend]\n",
    "        if rightfruit not in fruitfrequency:\n",
    "            fruitfrequency[rightfruit] = 0\n",
    "        fruitfrequency[rightfruit] += 1\n",
    "        while len(fruitfrequency) > 2:\n",
    "            leftfruit = fruits[windowstart]\n",
    "            fruitfrequency[leftfruit] -= 1\n",
    "            if fruitfrequency[leftfruit] == 0:\n",
    "                del fruitfrequency[leftfruit]\n",
    "            windowstart += 1\n",
    "        \n",
    "        maxlength = max(maxlength, windowend - windowstart +1)\n",
    "        \n",
    "    return maxlength"
   ]
  },
  {
   "cell_type": "code",
   "execution_count": 10,
   "metadata": {},
   "outputs": [
    {
     "data": {
      "text/plain": [
       "3"
      ]
     },
     "execution_count": 10,
     "metadata": {},
     "output_type": "execute_result"
    }
   ],
   "source": [
    "fruits_into_baskets(['A', 'B', 'C', 'A', 'C'])\n",
    "#Time complexity = O(N+N) = O(N)"
   ]
  }
 ],
 "metadata": {
  "kernelspec": {
   "display_name": "Python 3",
   "language": "python",
   "name": "python3"
  },
  "language_info": {
   "codemirror_mode": {
    "name": "ipython",
    "version": 3
   },
   "file_extension": ".py",
   "mimetype": "text/x-python",
   "name": "python",
   "nbconvert_exporter": "python",
   "pygments_lexer": "ipython3",
   "version": "3.7.6"
  }
 },
 "nbformat": 4,
 "nbformat_minor": 4
}
