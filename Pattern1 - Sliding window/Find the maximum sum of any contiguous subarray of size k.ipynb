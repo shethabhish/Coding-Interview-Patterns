{
 "cells": [
  {
   "cell_type": "code",
   "execution_count": 1,
   "metadata": {},
   "outputs": [],
   "source": [
    "def max_sub_array_of_size_k(k, arr):\n",
    "    maxsum = 0\n",
    "    for i in range(len(arr)-k+1):\n",
    "        sum = 0\n",
    "        \n",
    "        for j in range(i, i+k):\n",
    "            sum+= arr[j]\n",
    "        maxsum = max(maxsum,sum)\n",
    "        \n",
    "    return maxsum"
   ]
  },
  {
   "cell_type": "code",
   "execution_count": 2,
   "metadata": {},
   "outputs": [
    {
     "data": {
      "text/plain": [
       "7"
      ]
     },
     "execution_count": 2,
     "metadata": {},
     "output_type": "execute_result"
    }
   ],
   "source": [
    "max_sub_array_of_size_k(2,[2, 3, 4, 1, 5] )\n",
    "#Time complexity O(N*K)"
   ]
  },
  {
   "cell_type": "code",
   "execution_count": 3,
   "metadata": {},
   "outputs": [],
   "source": [
    "def max_sub_array_of_size_k1(k, arr):\n",
    "    windowstart = 0\n",
    "    windowsum = 0\n",
    "    maxsum = 0\n",
    "    for windowend in range(len(arr)):\n",
    "        windowsum += arr[windowend]\n",
    "        \n",
    "        if windowend >= k-1:\n",
    "            maxsum = max(maxsum, windowsum)\n",
    "            windowsum -= arr[windowstart]\n",
    "            windowstart += 1\n",
    "    return maxsum"
   ]
  },
  {
   "cell_type": "code",
   "execution_count": 4,
   "metadata": {},
   "outputs": [
    {
     "data": {
      "text/plain": [
       "7"
      ]
     },
     "execution_count": 4,
     "metadata": {},
     "output_type": "execute_result"
    }
   ],
   "source": [
    "max_sub_array_of_size_k1(2,[2, 3, 4, 1, 5])\n",
    "#Time complexity O(N)"
   ]
  },
  {
   "cell_type": "code",
   "execution_count": null,
   "metadata": {},
   "outputs": [],
   "source": []
  }
 ],
 "metadata": {
  "kernelspec": {
   "display_name": "Python 3",
   "language": "python",
   "name": "python3"
  },
  "language_info": {
   "codemirror_mode": {
    "name": "ipython",
    "version": 3
   },
   "file_extension": ".py",
   "mimetype": "text/x-python",
   "name": "python",
   "nbconvert_exporter": "python",
   "pygments_lexer": "ipython3",
   "version": "3.7.6"
  }
 },
 "nbformat": 4,
 "nbformat_minor": 4
}
