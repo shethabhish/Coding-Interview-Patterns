{
 "cells": [
  {
   "cell_type": "code",
   "execution_count": 1,
   "metadata": {},
   "outputs": [],
   "source": [
    "def longest_substring_with_k_distinct(s,k):\n",
    "    windowstart = 0\n",
    "    maxlength = 0\n",
    "    charfrequency = {}\n",
    "    \n",
    "    for windowend in range(len(s)):\n",
    "        rightchar = s[windowend]\n",
    "        if rightchar not in charfrequency:\n",
    "            charfrequency[rightchar] = 0\n",
    "        charfrequency[rightchar] += 1\n",
    "\n",
    "        while len(charfrequency) > k:\n",
    "            leftchar = s[windowstart]\n",
    "            charfrequency[leftchar] -= 1\n",
    "\n",
    "            if charfrequency[leftchar] == 0:\n",
    "                del charfrequency[leftchar]\n",
    "            windowstart += 1\n",
    "            \n",
    "        maxlength = max(maxlength, windowend-windowstart+1)\n",
    "    return maxlength"
   ]
  },
  {
   "cell_type": "code",
   "execution_count": 2,
   "metadata": {},
   "outputs": [
    {
     "data": {
      "text/plain": [
       "4"
      ]
     },
     "execution_count": 2,
     "metadata": {},
     "output_type": "execute_result"
    }
   ],
   "source": [
    "longest_substring_with_k_distinct('araaci',2)\n",
    "#Time complexity O(N+N) = O(N)"
   ]
  },
  {
   "cell_type": "code",
   "execution_count": null,
   "metadata": {},
   "outputs": [],
   "source": []
  }
 ],
 "metadata": {
  "kernelspec": {
   "display_name": "Python 3",
   "language": "python",
   "name": "python3"
  },
  "language_info": {
   "codemirror_mode": {
    "name": "ipython",
    "version": 3
   },
   "file_extension": ".py",
   "mimetype": "text/x-python",
   "name": "python",
   "nbconvert_exporter": "python",
   "pygments_lexer": "ipython3",
   "version": "3.7.6"
  }
 },
 "nbformat": 4,
 "nbformat_minor": 4
}
