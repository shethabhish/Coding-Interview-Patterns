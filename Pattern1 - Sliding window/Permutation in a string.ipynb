{
 "cells": [
  {
   "cell_type": "code",
   "execution_count": 5,
   "metadata": {},
   "outputs": [],
   "source": [
    "def find_permutations(s, pattern):\n",
    "    windowstart = 0\n",
    "    match = 0\n",
    "    charfreq = {}\n",
    "    \n",
    "    for ch in pattern:\n",
    "        if ch not in charfreq:\n",
    "            charfreq[ch] = 0\n",
    "        charfreq[ch] += 1\n",
    "    \n",
    "    for windowend in range(len(s)):\n",
    "        rightchar = s[windowend]\n",
    "        \n",
    "        if rightchar in charfreq:\n",
    "            charfreq[rightchar] -= 1\n",
    "            if charfreq[rightchar] == 0:\n",
    "                match +=1\n",
    "        if match == len(pattern):\n",
    "            return True\n",
    "        \n",
    "        if windowend >= len(pattern) - 1:\n",
    "            leftchar = s[windowstart]\n",
    "            windowstart += 1\n",
    "            if leftchar in charfreq:\n",
    "                if charfreq[leftchar] == 0:\n",
    "                    match -=1\n",
    "                charfreq[leftchar] += 1\n",
    "                \n",
    "    return False"
   ]
  },
  {
   "cell_type": "code",
   "execution_count": 6,
   "metadata": {},
   "outputs": [
    {
     "data": {
      "text/plain": [
       "True"
      ]
     },
     "execution_count": 6,
     "metadata": {},
     "output_type": "execute_result"
    }
   ],
   "source": [
    "find_permutations(\"oidbcaf\", \"abc\")"
   ]
  },
  {
   "cell_type": "code",
   "execution_count": null,
   "metadata": {},
   "outputs": [],
   "source": []
  }
 ],
 "metadata": {
  "kernelspec": {
   "display_name": "Python 3",
   "language": "python",
   "name": "python3"
  },
  "language_info": {
   "codemirror_mode": {
    "name": "ipython",
    "version": 3
   },
   "file_extension": ".py",
   "mimetype": "text/x-python",
   "name": "python",
   "nbconvert_exporter": "python",
   "pygments_lexer": "ipython3",
   "version": "3.7.6"
  }
 },
 "nbformat": 4,
 "nbformat_minor": 4
}
