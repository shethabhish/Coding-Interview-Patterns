{
 "cells": [
  {
   "cell_type": "code",
   "execution_count": 1,
   "metadata": {},
   "outputs": [],
   "source": [
    "def find_averages_of_subarrays(k, arr): #brute force\n",
    "    result = []\n",
    "    \n",
    "    for i in range(len(arr)-k+1):\n",
    "        sum = 0.0\n",
    "        \n",
    "        for j in range(i, i+k):\n",
    "            sum += arr[j]\n",
    "        result.append(sum/k)\n",
    "    return result"
   ]
  },
  {
   "cell_type": "code",
   "execution_count": 2,
   "metadata": {},
   "outputs": [
    {
     "data": {
      "text/plain": [
       "[2.2, 2.8, 2.4, 3.6, 2.8]"
      ]
     },
     "execution_count": 2,
     "metadata": {},
     "output_type": "execute_result"
    }
   ],
   "source": [
    "find_averages_of_subarrays(5, [1, 3, 2, 6, -1, 4, 1, 8, 2])\n",
    "#Time complexity = O(N*K)"
   ]
  },
  {
   "cell_type": "code",
   "execution_count": 3,
   "metadata": {},
   "outputs": [],
   "source": [
    "def find_averages_of_subarrays1(k, arr): #practical approach --> Sliding window\n",
    "    result = []\n",
    "    windowstart = 0\n",
    "    windowsum = 0.0\n",
    "    \n",
    "    for windowend in range(len(arr)):\n",
    "        windowsum+= arr[windowend]# add the next element\n",
    "    # slide the window, we don't need to slide if we've not hit the required window size of 'k'\n",
    "        if windowend >= k-1:\n",
    "            result.append(windowsum/k)\n",
    "            windowsum -= arr[windowstart] # subtract the element going out\n",
    "            windowstart += 1 # slide the window ahead\n",
    "        \n",
    "    return result"
   ]
  },
  {
   "cell_type": "code",
   "execution_count": 4,
   "metadata": {},
   "outputs": [
    {
     "data": {
      "text/plain": [
       "[2.2, 2.8, 2.4, 3.6, 2.8]"
      ]
     },
     "execution_count": 4,
     "metadata": {},
     "output_type": "execute_result"
    }
   ],
   "source": [
    "find_averages_of_subarrays1(5, [1, 3, 2, 6, -1, 4, 1, 8, 2])\n",
    "#Time complexity = O(N)"
   ]
  },
  {
   "cell_type": "code",
   "execution_count": null,
   "metadata": {},
   "outputs": [],
   "source": []
  }
 ],
 "metadata": {
  "kernelspec": {
   "display_name": "Python 3",
   "language": "python",
   "name": "python3"
  },
  "language_info": {
   "codemirror_mode": {
    "name": "ipython",
    "version": 3
   },
   "file_extension": ".py",
   "mimetype": "text/x-python",
   "name": "python",
   "nbconvert_exporter": "python",
   "pygments_lexer": "ipython3",
   "version": "3.7.6"
  }
 },
 "nbformat": 4,
 "nbformat_minor": 4
}
