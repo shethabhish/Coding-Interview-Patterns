{
 "cells": [
  {
   "cell_type": "code",
   "execution_count": 1,
   "metadata": {},
   "outputs": [],
   "source": [
    "def longest_ones_subarray(arr, k):\n",
    "    maxones = 0\n",
    "    windowstart = 0\n",
    "    maxlength = 0\n",
    "    for windowend in range(len(arr)):\n",
    "        if arr[windowend] == 1:\n",
    "            maxones += 1\n",
    "            \n",
    "        if (windowend - windowstart+1 - maxones) > k:\n",
    "            if arr[windowstart] == 1:\n",
    "                maxones-=1\n",
    "            windowstart +=1\n",
    "        maxlength = max(maxlength, windowend - windowstart + 1)\n",
    "        \n",
    "    return maxlength"
   ]
  },
  {
   "cell_type": "code",
   "execution_count": 2,
   "metadata": {},
   "outputs": [
    {
     "data": {
      "text/plain": [
       "6"
      ]
     },
     "execution_count": 2,
     "metadata": {},
     "output_type": "execute_result"
    }
   ],
   "source": [
    "longest_ones_subarray([0, 1, 1, 0, 0, 0, 1, 1, 0, 1, 1], 2)"
   ]
  }
 ],
 "metadata": {
  "kernelspec": {
   "display_name": "Python 3",
   "language": "python",
   "name": "python3"
  },
  "language_info": {
   "codemirror_mode": {
    "name": "ipython",
    "version": 3
   },
   "file_extension": ".py",
   "mimetype": "text/x-python",
   "name": "python",
   "nbconvert_exporter": "python",
   "pygments_lexer": "ipython3",
   "version": "3.7.6"
  }
 },
 "nbformat": 4,
 "nbformat_minor": 4
}
