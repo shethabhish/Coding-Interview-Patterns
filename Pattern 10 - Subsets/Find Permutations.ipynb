{
 "cells": [
  {
   "cell_type": "code",
   "execution_count": 1,
   "metadata": {},
   "outputs": [],
   "source": [
    "from collections import deque\n",
    "def find_permutations(nums):\n",
    "    result = []\n",
    "    numslength = len(nums)\n",
    "    permutations = deque()\n",
    "    permutations.append([])\n",
    "    for current in nums:\n",
    "        n = len(permutations)\n",
    "        for _ in range(n):\n",
    "            oldpermutations = permutations.popleft()\n",
    "            for j in range(len(oldpermutations)+1):\n",
    "                newpermutation = list(oldpermutations)\n",
    "                newpermutation.insert(j, current)\n",
    "                if len(newpermutation) == numslength:\n",
    "                    result.append(newpermutation)\n",
    "                else:\n",
    "                    permutations.append(newpermutation)\n",
    "    return result"
   ]
  },
  {
   "cell_type": "code",
   "execution_count": 2,
   "metadata": {},
   "outputs": [
    {
     "data": {
      "text/plain": [
       "[[5, 3, 1], [3, 5, 1], [3, 1, 5], [5, 1, 3], [1, 5, 3], [1, 3, 5]]"
      ]
     },
     "execution_count": 2,
     "metadata": {},
     "output_type": "execute_result"
    }
   ],
   "source": [
    "find_permutations([1,3,5])"
   ]
  }
 ],
 "metadata": {
  "kernelspec": {
   "display_name": "Python 3",
   "language": "python",
   "name": "python3"
  },
  "language_info": {
   "codemirror_mode": {
    "name": "ipython",
    "version": 3
   },
   "file_extension": ".py",
   "mimetype": "text/x-python",
   "name": "python",
   "nbconvert_exporter": "python",
   "pygments_lexer": "ipython3",
   "version": "3.7.6"
  }
 },
 "nbformat": 4,
 "nbformat_minor": 4
}
