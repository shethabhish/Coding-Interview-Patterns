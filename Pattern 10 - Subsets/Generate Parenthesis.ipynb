{
 "cells": [
  {
   "cell_type": "code",
   "execution_count": 1,
   "metadata": {},
   "outputs": [],
   "source": [
    "def genParenthesis(num):\n",
    "    result = []\n",
    "    parenthesis(num,num,\"\",result)\n",
    "    return result\n",
    "\n",
    "def parenthesis(openCount, closeCount,temp,result):\n",
    "    if openCount == 0 and closeCount == 0:\n",
    "        result.append(temp)\n",
    "    if openCount>0:\n",
    "        parenthesis(openCount-1,closeCount,temp+'(',result)\n",
    "    if closeCount>openCount:\n",
    "        parenthesis(openCount,closeCount-1,temp+')',result)"
   ]
  },
  {
   "cell_type": "code",
   "execution_count": 2,
   "metadata": {},
   "outputs": [
    {
     "data": {
      "text/plain": [
       "['((()))', '(()())', '(())()', '()(())', '()()()']"
      ]
     },
     "execution_count": 2,
     "metadata": {},
     "output_type": "execute_result"
    }
   ],
   "source": [
    "genParenthesis(3)"
   ]
  }
 ],
 "metadata": {
  "kernelspec": {
   "display_name": "Python 3",
   "language": "python",
   "name": "python3"
  },
  "language_info": {
   "codemirror_mode": {
    "name": "ipython",
    "version": 3
   },
   "file_extension": ".py",
   "mimetype": "text/x-python",
   "name": "python",
   "nbconvert_exporter": "python",
   "pygments_lexer": "ipython3",
   "version": "3.7.6"
  }
 },
 "nbformat": 4,
 "nbformat_minor": 4
}
