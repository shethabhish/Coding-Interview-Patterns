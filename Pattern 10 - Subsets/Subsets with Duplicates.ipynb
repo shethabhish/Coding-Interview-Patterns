{
 "cells": [
  {
   "cell_type": "code",
   "execution_count": 1,
   "metadata": {},
   "outputs": [],
   "source": [
    "def find_subset(nums):\n",
    "    nums.sort()\n",
    "    subset = []\n",
    "    subset.append([])\n",
    "    for current in nums:\n",
    "        n = len(subset)\n",
    "        for i in range(n):\n",
    "            set = list(subset[i])\n",
    "            set.append(current)\n",
    "            subset.append(set)\n",
    "    res = []\n",
    "    for i in subset:\n",
    "        if i not in res:\n",
    "            res.append(i)\n",
    "    return res"
   ]
  },
  {
   "cell_type": "code",
   "execution_count": 2,
   "metadata": {},
   "outputs": [
    {
     "data": {
      "text/plain": [
       "[[],\n",
       " [1],\n",
       " [3],\n",
       " [1, 3],\n",
       " [3, 3],\n",
       " [1, 3, 3],\n",
       " [5],\n",
       " [1, 5],\n",
       " [3, 5],\n",
       " [1, 3, 5],\n",
       " [3, 3, 5],\n",
       " [1, 3, 3, 5]]"
      ]
     },
     "execution_count": 2,
     "metadata": {},
     "output_type": "execute_result"
    }
   ],
   "source": [
    "find_subset([1,5,3,3])\n",
    "#Time complexity O(2*n)"
   ]
  },
  {
   "cell_type": "code",
   "execution_count": 3,
   "metadata": {},
   "outputs": [],
   "source": [
    "def find_duplicate(nums):\n",
    "    nums.sort()\n",
    "    subset = []\n",
    "    subset.append([])\n",
    "    start, end = 0,0\n",
    "    for i in range(len(nums)):\n",
    "        start = 0\n",
    "        if i > 0 and nums[i] == nums[i-1]:\n",
    "            start = end+1\n",
    "        end = len(subset) - 1\n",
    "        for j in range(start,end+1):\n",
    "            set = list(subset[j])\n",
    "            set.append(nums[i])\n",
    "            subset.append(set)\n",
    "    return subset"
   ]
  },
  {
   "cell_type": "code",
   "execution_count": 4,
   "metadata": {},
   "outputs": [
    {
     "data": {
      "text/plain": [
       "[[],\n",
       " [1],\n",
       " [3],\n",
       " [1, 3],\n",
       " [3, 3],\n",
       " [1, 3, 3],\n",
       " [5],\n",
       " [1, 5],\n",
       " [3, 5],\n",
       " [1, 3, 5],\n",
       " [3, 3, 5],\n",
       " [1, 3, 3, 5]]"
      ]
     },
     "execution_count": 4,
     "metadata": {},
     "output_type": "execute_result"
    }
   ],
   "source": [
    "find_duplicate([1,5,3,3])\n",
    "#Time complexity O(2*n)"
   ]
  }
 ],
 "metadata": {
  "kernelspec": {
   "display_name": "Python 3",
   "language": "python",
   "name": "python3"
  },
  "language_info": {
   "codemirror_mode": {
    "name": "ipython",
    "version": 3
   },
   "file_extension": ".py",
   "mimetype": "text/x-python",
   "name": "python",
   "nbconvert_exporter": "python",
   "pygments_lexer": "ipython3",
   "version": "3.7.6"
  }
 },
 "nbformat": 4,
 "nbformat_minor": 4
}
