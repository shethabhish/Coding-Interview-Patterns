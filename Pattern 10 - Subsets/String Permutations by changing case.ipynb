{
 "cells": [
  {
   "cell_type": "code",
   "execution_count": 1,
   "metadata": {},
   "outputs": [],
   "source": [
    "def find_letter_casse_permutation(s):\n",
    "    res = []\n",
    "    res.append(s)\n",
    "    for i in range(len(s)):\n",
    "        if s[i].isalpha():\n",
    "            n = len(res)\n",
    "            for j in range(n):\n",
    "                temp = list(res[j])\n",
    "                temp[i] = temp[i].swapcase()\n",
    "                res.append(''.join(temp))\n",
    "    return res"
   ]
  },
  {
   "cell_type": "code",
   "execution_count": 2,
   "metadata": {},
   "outputs": [
    {
     "data": {
      "text/plain": [
       "['ad52', 'Ad52', 'aD52', 'AD52']"
      ]
     },
     "execution_count": 2,
     "metadata": {},
     "output_type": "execute_result"
    }
   ],
   "source": [
    "find_letter_casse_permutation(\"ad52\")"
   ]
  }
 ],
 "metadata": {
  "kernelspec": {
   "display_name": "Python 3",
   "language": "python",
   "name": "python3"
  },
  "language_info": {
   "codemirror_mode": {
    "name": "ipython",
    "version": 3
   },
   "file_extension": ".py",
   "mimetype": "text/x-python",
   "name": "python",
   "nbconvert_exporter": "python",
   "pygments_lexer": "ipython3",
   "version": "3.7.6"
  }
 },
 "nbformat": 4,
 "nbformat_minor": 4
}
