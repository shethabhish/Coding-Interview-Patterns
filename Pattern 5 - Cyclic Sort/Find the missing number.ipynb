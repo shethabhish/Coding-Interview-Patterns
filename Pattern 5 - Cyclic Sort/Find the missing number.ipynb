{
 "cells": [
  {
   "cell_type": "code",
   "execution_count": 1,
   "metadata": {},
   "outputs": [],
   "source": [
    "def find(nums):\n",
    "    i = 0\n",
    "    while i < len(nums):\n",
    "        j = nums[i]\n",
    "        if nums[i] < len(nums) and nums[i] != nums[j]:\n",
    "            nums[i],nums[j] = nums[j],nums[i]\n",
    "        else:\n",
    "            i+=1\n",
    "    for i in range(len(nums)):\n",
    "        if i != nums[i]:\n",
    "            return i\n",
    "    \n",
    "    return len(nums)"
   ]
  },
  {
   "cell_type": "code",
   "execution_count": 2,
   "metadata": {},
   "outputs": [
    {
     "data": {
      "text/plain": [
       "2"
      ]
     },
     "execution_count": 2,
     "metadata": {},
     "output_type": "execute_result"
    }
   ],
   "source": [
    "find([4,0,3,1])"
   ]
  }
 ],
 "metadata": {
  "kernelspec": {
   "display_name": "Python 3",
   "language": "python",
   "name": "python3"
  },
  "language_info": {
   "codemirror_mode": {
    "name": "ipython",
    "version": 3
   },
   "file_extension": ".py",
   "mimetype": "text/x-python",
   "name": "python",
   "nbconvert_exporter": "python",
   "pygments_lexer": "ipython3",
   "version": "3.7.6"
  }
 },
 "nbformat": 4,
 "nbformat_minor": 4
}
