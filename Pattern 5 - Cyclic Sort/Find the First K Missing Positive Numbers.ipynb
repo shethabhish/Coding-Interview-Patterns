{
 "cells": [
  {
   "cell_type": "code",
   "execution_count": 1,
   "metadata": {},
   "outputs": [],
   "source": [
    "def find(nums,k):\n",
    "    n = len(nums)\n",
    "    i = 0\n",
    "    while i<len(nums):\n",
    "        j = nums[i]-1\n",
    "        if nums[i]>0 and nums[i]<=n and nums[i]!=nums[j]:\n",
    "            nums[i],nums[j] = nums[j],nums[i]\n",
    "        else:\n",
    "            i+=1\n",
    "    \n",
    "    missing =[]\n",
    "    extra = set()\n",
    "    for i in range(n):\n",
    "        if len(missing) < k:\n",
    "            if nums[i] != i+1:\n",
    "                missing.append(i+1)\n",
    "                extra.add(nums[i])\n",
    "    i=1\n",
    "    while len(missing)<k:\n",
    "        num = i+n\n",
    "        if num not in extra:\n",
    "            missing.append(num)\n",
    "        i+=1\n",
    "        \n",
    "    return missing"
   ]
  },
  {
   "cell_type": "code",
   "execution_count": 2,
   "metadata": {},
   "outputs": [
    {
     "data": {
      "text/plain": [
       "[1, 2, 6]"
      ]
     },
     "execution_count": 2,
     "metadata": {},
     "output_type": "execute_result"
    }
   ],
   "source": [
    "find([3,-1,4,5,5],3)"
   ]
  }
 ],
 "metadata": {
  "kernelspec": {
   "display_name": "Python 3",
   "language": "python",
   "name": "python3"
  },
  "language_info": {
   "codemirror_mode": {
    "name": "ipython",
    "version": 3
   },
   "file_extension": ".py",
   "mimetype": "text/x-python",
   "name": "python",
   "nbconvert_exporter": "python",
   "pygments_lexer": "ipython3",
   "version": "3.7.6"
  }
 },
 "nbformat": 4,
 "nbformat_minor": 4
}
