{
 "cells": [
  {
   "cell_type": "code",
   "execution_count": 1,
   "metadata": {},
   "outputs": [],
   "source": [
    "def find_smallest_missing_positive_number(nums):\n",
    "    neg = []\n",
    "    \n",
    "    for i in nums:\n",
    "        if i < 1:\n",
    "            neg.append(i)\n",
    "    for i in neg:\n",
    "        nums.remove(i)\n",
    "    \n",
    "    i = 0\n",
    "    nums.sort()\n",
    "    temp = []\n",
    "    for i in range(1,nums[-1]+1):\n",
    "        temp.append(i)\n",
    "    \n",
    "    if sum(temp) == sum(nums):\n",
    "        return nums[-1]+1\n",
    "    else:\n",
    "        return sum(temp) - sum(nums) "
   ]
  },
  {
   "cell_type": "code",
   "execution_count": 2,
   "metadata": {},
   "outputs": [
    {
     "data": {
      "text/plain": [
       "4"
      ]
     },
     "execution_count": 2,
     "metadata": {},
     "output_type": "execute_result"
    }
   ],
   "source": [
    "find_smallest_missing_positive_number([3, 2, 5, 1])\n",
    "#Time complexity O(nlogn)"
   ]
  },
  {
   "cell_type": "code",
   "execution_count": 3,
   "metadata": {},
   "outputs": [],
   "source": [
    "def find(nums):\n",
    "    i,n =0,len(nums)\n",
    "    while i<n:\n",
    "        j = nums[i]-1\n",
    "        if nums[i]>0 and nums[i]<=n and nums[i]!=nums[j]:\n",
    "            nums[i],nums[j] = nums[j],nums[i]\n",
    "        else:\n",
    "            i+=1\n",
    "    for i in range(len(nums)):\n",
    "        if i+1 != nums[i]:\n",
    "            return i+1\n",
    "    return len(nums)+1"
   ]
  },
  {
   "cell_type": "code",
   "execution_count": 4,
   "metadata": {},
   "outputs": [
    {
     "data": {
      "text/plain": [
       "4"
      ]
     },
     "execution_count": 4,
     "metadata": {},
     "output_type": "execute_result"
    }
   ],
   "source": [
    "find([3, -2, 0, 1, 2])\n",
    "#Time complexity = O(n)"
   ]
  }
 ],
 "metadata": {
  "kernelspec": {
   "display_name": "Python 3",
   "language": "python",
   "name": "python3"
  },
  "language_info": {
   "codemirror_mode": {
    "name": "ipython",
    "version": 3
   },
   "file_extension": ".py",
   "mimetype": "text/x-python",
   "name": "python",
   "nbconvert_exporter": "python",
   "pygments_lexer": "ipython3",
   "version": "3.7.6"
  }
 },
 "nbformat": 4,
 "nbformat_minor": 4
}
