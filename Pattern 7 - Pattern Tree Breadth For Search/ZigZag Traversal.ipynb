{
 "cells": [
  {
   "cell_type": "code",
   "execution_count": 1,
   "metadata": {},
   "outputs": [],
   "source": [
    "class Tree:\n",
    "    def __init__(self,val):\n",
    "        self.val = val\n",
    "        self.left = None\n",
    "        self.right = None"
   ]
  },
  {
   "cell_type": "code",
   "execution_count": 2,
   "metadata": {},
   "outputs": [],
   "source": [
    "root = Tree(12)\n",
    "root.left = Tree(7)\n",
    "root.right = Tree(1)\n",
    "root.left.left = Tree(9)\n",
    "root.right.left = Tree(10)\n",
    "root.right.right = Tree(5)\n",
    "root.right.left.left = Tree(20)\n",
    "root.right.left.right = Tree(17)"
   ]
  },
  {
   "cell_type": "code",
   "execution_count": 3,
   "metadata": {},
   "outputs": [],
   "source": [
    "from collections import deque\n",
    "def zigzag(root):\n",
    "    lefttoright = True\n",
    "    result = []\n",
    "    if root is None:\n",
    "        return root\n",
    "    queue = deque()\n",
    "    queue.append(root)\n",
    "    while queue:\n",
    "        levelsize = len(queue)\n",
    "        currentval = deque()\n",
    "        \n",
    "        for i in range(levelsize):\n",
    "            currentnode = queue.popleft()\n",
    "            if lefttoright:\n",
    "                currentval.append(currentnode.val)\n",
    "            else:\n",
    "                currentval.appendleft(currentnode.val)\n",
    "            \n",
    "            if currentnode.left:\n",
    "                queue.append(currentnode.left)\n",
    "            if currentnode.right:\n",
    "                queue.append(currentnode.right)\n",
    "        \n",
    "        result.append(list(currentval))\n",
    "        lefttoright = not lefttoright\n",
    "    return result   "
   ]
  },
  {
   "cell_type": "code",
   "execution_count": 4,
   "metadata": {},
   "outputs": [
    {
     "data": {
      "text/plain": [
       "[[12], [1, 7], [9, 10, 5], [17, 20]]"
      ]
     },
     "execution_count": 4,
     "metadata": {},
     "output_type": "execute_result"
    }
   ],
   "source": [
    "zigzag(root)"
   ]
  }
 ],
 "metadata": {
  "kernelspec": {
   "display_name": "Python 3",
   "language": "python",
   "name": "python3"
  },
  "language_info": {
   "codemirror_mode": {
    "name": "ipython",
    "version": 3
   },
   "file_extension": ".py",
   "mimetype": "text/x-python",
   "name": "python",
   "nbconvert_exporter": "python",
   "pygments_lexer": "ipython3",
   "version": "3.7.6"
  }
 },
 "nbformat": 4,
 "nbformat_minor": 4
}
