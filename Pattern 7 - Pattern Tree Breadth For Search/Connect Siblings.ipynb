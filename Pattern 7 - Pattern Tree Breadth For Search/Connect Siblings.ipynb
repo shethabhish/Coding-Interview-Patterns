{
 "cells": [
  {
   "cell_type": "code",
   "execution_count": 1,
   "metadata": {},
   "outputs": [],
   "source": [
    "class Tree:\n",
    "    def __init__(self,val):\n",
    "        self.val = val\n",
    "        self.left = None\n",
    "        self.right = None\n",
    "        self.next = None\n",
    "        \n",
    "    def print_tree(self):\n",
    "        current = self\n",
    "        while current:\n",
    "            print(str(current.val) + \" \",end='')\n",
    "            current = current.next"
   ]
  },
  {
   "cell_type": "code",
   "execution_count": 2,
   "metadata": {},
   "outputs": [],
   "source": [
    "from collections import deque\n",
    "def connect_siblings(root):\n",
    "    if root is None:\n",
    "        return None\n",
    "    \n",
    "    currentnode, previousnode = None, None\n",
    "    queue = deque()\n",
    "    queue.append(root)\n",
    "    \n",
    "    while queue:\n",
    "        currentnode = queue.popleft()\n",
    "        if previousnode:\n",
    "            previousnode.next = currentnode\n",
    "        previousnode = currentnode\n",
    "        \n",
    "        if currentnode.left:\n",
    "            queue.append(currentnode.left)\n",
    "        if currentnode.right:\n",
    "            queue.append(currentnode.right)"
   ]
  },
  {
   "cell_type": "code",
   "execution_count": 3,
   "metadata": {},
   "outputs": [],
   "source": [
    "root = Tree(12)\n",
    "root.left = Tree(7)\n",
    "root.right = Tree(1)\n",
    "root.left.left = Tree(9)\n",
    "root.right.left = Tree(10)\n",
    "root.right.right = Tree(5)"
   ]
  },
  {
   "cell_type": "code",
   "execution_count": 4,
   "metadata": {},
   "outputs": [],
   "source": [
    "connect_siblings(root)"
   ]
  },
  {
   "cell_type": "code",
   "execution_count": 5,
   "metadata": {},
   "outputs": [],
   "source": [
    "root.print_tree()"
   ]
  }
 ],
 "metadata": {
  "kernelspec": {
   "display_name": "Python 3",
   "language": "python",
   "name": "python3"
  },
  "language_info": {
   "codemirror_mode": {
    "name": "ipython",
    "version": 3
   },
   "file_extension": ".py",
   "mimetype": "text/x-python",
   "name": "python",
   "nbconvert_exporter": "python",
   "pygments_lexer": "ipython3",
   "version": "3.7.6"
  }
 },
 "nbformat": 4,
 "nbformat_minor": 4
}
