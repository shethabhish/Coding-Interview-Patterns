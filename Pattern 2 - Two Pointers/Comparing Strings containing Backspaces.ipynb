{
 "cells": [
  {
   "cell_type": "code",
   "execution_count": 1,
   "metadata": {},
   "outputs": [],
   "source": [
    "from collections import deque\n",
    "\n",
    "def backspace_compare(str1, str2):\n",
    "    a = deque()\n",
    "    b = deque()\n",
    "    for i in str1:\n",
    "        if i == '#':\n",
    "            a.pop()\n",
    "            continue\n",
    "        a.append(i)\n",
    "    for i in str2:\n",
    "        if i == '#':\n",
    "            b.pop()\n",
    "            continue\n",
    "        b.append(i)\n",
    "    return a == b"
   ]
  },
  {
   "cell_type": "code",
   "execution_count": 2,
   "metadata": {},
   "outputs": [
    {
     "data": {
      "text/plain": [
       "True"
      ]
     },
     "execution_count": 2,
     "metadata": {},
     "output_type": "execute_result"
    }
   ],
   "source": [
    "backspace_compare(\"xywrrmp\", \"xywrrmu#p\")"
   ]
  }
 ],
 "metadata": {
  "kernelspec": {
   "display_name": "Python 3",
   "language": "python",
   "name": "python3"
  },
  "language_info": {
   "codemirror_mode": {
    "name": "ipython",
    "version": 3
   },
   "file_extension": ".py",
   "mimetype": "text/x-python",
   "name": "python",
   "nbconvert_exporter": "python",
   "pygments_lexer": "ipython3",
   "version": "3.7.6"
  }
 },
 "nbformat": 4,
 "nbformat_minor": 4
}
