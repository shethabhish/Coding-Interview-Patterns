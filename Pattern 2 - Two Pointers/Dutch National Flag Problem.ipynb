{
 "cells": [
  {
   "cell_type": "code",
   "execution_count": 1,
   "metadata": {},
   "outputs": [],
   "source": [
    "def dutch_flag_sort(arr):\n",
    "    low = 0\n",
    "    high = len(arr) - 1\n",
    "    i = 0\n",
    "    while i <= high:\n",
    "        if arr[i] == 0:\n",
    "            arr[i], arr[low] = arr[low], arr[i] #swap\n",
    "            i+=1\n",
    "            low+=1\n",
    "        elif arr[i] == 1:\n",
    "            i+=1\n",
    "        else:\n",
    "            arr[i], arr[high] = arr[high], arr[i] #swap\n",
    "            high -= 1\n",
    "    return arr"
   ]
  },
  {
   "cell_type": "code",
   "execution_count": 2,
   "metadata": {},
   "outputs": [
    {
     "data": {
      "text/plain": [
       "[0, 0, 1, 2, 2, 2]"
      ]
     },
     "execution_count": 2,
     "metadata": {},
     "output_type": "execute_result"
    }
   ],
   "source": [
    "dutch_flag_sort([2, 2, 0, 1, 2, 0])"
   ]
  }
 ],
 "metadata": {
  "kernelspec": {
   "display_name": "Python 3",
   "language": "python",
   "name": "python3"
  },
  "language_info": {
   "codemirror_mode": {
    "name": "ipython",
    "version": 3
   },
   "file_extension": ".py",
   "mimetype": "text/x-python",
   "name": "python",
   "nbconvert_exporter": "python",
   "pygments_lexer": "ipython3",
   "version": "3.7.6"
  }
 },
 "nbformat": 4,
 "nbformat_minor": 4
}
