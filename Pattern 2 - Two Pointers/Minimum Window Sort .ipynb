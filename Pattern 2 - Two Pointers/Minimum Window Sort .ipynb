{
 "cells": [
  {
   "cell_type": "code",
   "execution_count": 1,
   "metadata": {},
   "outputs": [],
   "source": [
    "def shortest_window_sort(arr):\n",
    "    temp = arr.copy()\n",
    "    arr.sort()\n",
    "    if temp == arr:\n",
    "        return 0\n",
    "    else:\n",
    "        front = 0\n",
    "        end = 0\n",
    "        count = 0\n",
    "        for i in range(len(arr)):\n",
    "            if arr[i] != temp[i]:\n",
    "                front = arr.index(arr[i])\n",
    "                break\n",
    "        for i in range(len(arr)-1,0,-1):\n",
    "            if arr[i] != temp[i]:\n",
    "                end = arr.index(arr[i])\n",
    "                break\n",
    "\n",
    "        return len(temp[front:end+1])"
   ]
  },
  {
   "cell_type": "code",
   "execution_count": 2,
   "metadata": {},
   "outputs": [
    {
     "data": {
      "text/plain": [
       "0"
      ]
     },
     "execution_count": 2,
     "metadata": {},
     "output_type": "execute_result"
    }
   ],
   "source": [
    "shortest_window_sort([1, 2,3])"
   ]
  },
  {
   "cell_type": "code",
   "execution_count": 3,
   "metadata": {},
   "outputs": [],
   "source": [
    "import math\n",
    "\n",
    "def shortestsubsort(arr):\n",
    "    low = 0\n",
    "    high = len(arr)-1\n",
    "    \n",
    "    while low < len(arr)-1 and arr[low] <= arr[low+1]:\n",
    "        low += 1\n",
    "    print(\"Low:\",low)\n",
    "    \n",
    "    if low == len(arr)-1:\n",
    "        return 0\n",
    "    \n",
    "    while high>0 and arr[high] >= arr[high-1]:\n",
    "        high -= 1\n",
    "    print(\"High:\",high)\n",
    "    \n",
    "    arrmin = math.inf\n",
    "    arrmax = -math.inf\n",
    "    \n",
    "    for i in range(low, high+1):\n",
    "        arrmin = min(arrmin, arr[i])\n",
    "        arrmax = max(arrmax, arr[i])\n",
    "    print(\"arrmin:\",arrmin)\n",
    "    print(\"arrmax:\",arrmax) \n",
    "    \n",
    "    while low > 0 and arr[low-1] > arrmin:\n",
    "        low -=1\n",
    "    print(\"low:\",low)\n",
    "    while high < len(arr)-1 and arr[high+1] < arrmax:\n",
    "        high +=1\n",
    "    print(\"high:\",high)\n",
    "    return high - low +1"
   ]
  },
  {
   "cell_type": "code",
   "execution_count": 4,
   "metadata": {},
   "outputs": [
    {
     "name": "stdout",
     "output_type": "stream",
     "text": [
      "Low: 1\n",
      "High: 4\n",
      "arrmin: -1\n",
      "arrmax: 3\n",
      "low: 0\n",
      "high: 4\n"
     ]
    },
    {
     "data": {
      "text/plain": [
       "5"
      ]
     },
     "execution_count": 4,
     "metadata": {},
     "output_type": "execute_result"
    }
   ],
   "source": [
    "shortestsubsort([1, 3, 2, 0, -1, 7, 10])"
   ]
  }
 ],
 "metadata": {
  "kernelspec": {
   "display_name": "Python 3",
   "language": "python",
   "name": "python3"
  },
  "language_info": {
   "codemirror_mode": {
    "name": "ipython",
    "version": 3
   },
   "file_extension": ".py",
   "mimetype": "text/x-python",
   "name": "python",
   "nbconvert_exporter": "python",
   "pygments_lexer": "ipython3",
   "version": "3.7.6"
  }
 },
 "nbformat": 4,
 "nbformat_minor": 4
}
