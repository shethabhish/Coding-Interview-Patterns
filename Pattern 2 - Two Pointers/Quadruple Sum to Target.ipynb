{
 "cells": [
  {
   "cell_type": "code",
   "execution_count": 1,
   "metadata": {},
   "outputs": [],
   "source": [
    "def search_quadruplets(arr, target):\n",
    "    arr.sort()\n",
    "    quadruplets = []\n",
    "    for i in range(len(arr)-3):\n",
    "        if i > 0 and arr[i] == arr[i-1]:\n",
    "            continue\n",
    "        for j in range(i+1, len(arr)-2):\n",
    "            if j > i+1 and arr[j] == arr[j-1]:\n",
    "                continue\n",
    "            \n",
    "            left = j+1\n",
    "            right = len(arr) - 1\n",
    "            while left<right:\n",
    "                currentsum = arr[i]+arr[j]+arr[left]+arr[right]\n",
    "\n",
    "                if currentsum > target:\n",
    "                    right-=1\n",
    "                elif currentsum < target:\n",
    "                    left+=1\n",
    "                else:\n",
    "                    quadruplets.append([arr[i],arr[j],arr[left],arr[right]])\n",
    "                    while left<right and arr[left]==arr[left+1]:\n",
    "                        left+=1\n",
    "                    while left<right and arr[right]==arr[right-1]:\n",
    "                        right-=1\n",
    "                    left+=1\n",
    "                    right-=1\n",
    "                    \n",
    "    return quadruplets"
   ]
  },
  {
   "cell_type": "code",
   "execution_count": 2,
   "metadata": {},
   "outputs": [
    {
     "data": {
      "text/plain": [
       "[[-2, 0, 2, 2], [-1, 0, 1, 2]]"
      ]
     },
     "execution_count": 2,
     "metadata": {},
     "output_type": "execute_result"
    }
   ],
   "source": [
    "search_quadruplets([2,0,-1,1,-2,2],2)"
   ]
  }
 ],
 "metadata": {
  "kernelspec": {
   "display_name": "Python 3",
   "language": "python",
   "name": "python3"
  },
  "language_info": {
   "codemirror_mode": {
    "name": "ipython",
    "version": 3
   },
   "file_extension": ".py",
   "mimetype": "text/x-python",
   "name": "python",
   "nbconvert_exporter": "python",
   "pygments_lexer": "ipython3",
   "version": "3.7.6"
  }
 },
 "nbformat": 4,
 "nbformat_minor": 4
}
