{
 "cells": [
  {
   "cell_type": "code",
   "execution_count": 1,
   "metadata": {},
   "outputs": [],
   "source": [
    "def triplets_with_smaller_sum(arr, target):\n",
    "    arr.sort()\n",
    "    ans = 0\n",
    "    for i in range(len(arr)-2):\n",
    "        left = i+1\n",
    "        right = len(arr) - 1\n",
    "        \n",
    "        while(left<right):\n",
    "            currentsum = arr[i]+arr[left]+arr[right]\n",
    "            if currentsum >= target:\n",
    "                right -= 1\n",
    "            else:\n",
    "                ans += right - left\n",
    "                left += 1\n",
    "    return ans"
   ]
  },
  {
   "cell_type": "code",
   "execution_count": 2,
   "metadata": {},
   "outputs": [
    {
     "data": {
      "text/plain": [
       "4"
      ]
     },
     "execution_count": 2,
     "metadata": {},
     "output_type": "execute_result"
    }
   ],
   "source": [
    "triplets_with_smaller_sum([-1, 4, 2, 1, 3], 5)"
   ]
  },
  {
   "cell_type": "code",
   "execution_count": 3,
   "metadata": {},
   "outputs": [],
   "source": [
    "def triplets_with_smaller_sum1(arr, target):\n",
    "    arr.sort()\n",
    "    triplets = []\n",
    "    ans = 0\n",
    "    for i in range(len(arr)-2):\n",
    "        left = i+1\n",
    "        right = len(arr) - 1\n",
    "        \n",
    "        while(left<right):\n",
    "            currentsum = arr[i]+arr[left]+arr[right]\n",
    "            if currentsum >= target:\n",
    "                right -= 1\n",
    "            else:\n",
    "                for j in range(right,left,-1):\n",
    "                    triplets.append([arr[i], arr[left], arr[j]])\n",
    "                left += 1\n",
    "    return triplets"
   ]
  },
  {
   "cell_type": "code",
   "execution_count": 4,
   "metadata": {},
   "outputs": [
    {
     "data": {
      "text/plain": [
       "[[-1, 1, 4], [-1, 1, 3], [-1, 1, 2], [-1, 2, 3]]"
      ]
     },
     "execution_count": 4,
     "metadata": {},
     "output_type": "execute_result"
    }
   ],
   "source": [
    "triplets_with_smaller_sum1([-1, 4, 2, 1, 3], 5)"
   ]
  },
  {
   "cell_type": "code",
   "execution_count": null,
   "metadata": {},
   "outputs": [],
   "source": []
  }
 ],
 "metadata": {
  "kernelspec": {
   "display_name": "Python 3",
   "language": "python",
   "name": "python3"
  },
  "language_info": {
   "codemirror_mode": {
    "name": "ipython",
    "version": 3
   },
   "file_extension": ".py",
   "mimetype": "text/x-python",
   "name": "python",
   "nbconvert_exporter": "python",
   "pygments_lexer": "ipython3",
   "version": "3.7.6"
  }
 },
 "nbformat": 4,
 "nbformat_minor": 4
}
