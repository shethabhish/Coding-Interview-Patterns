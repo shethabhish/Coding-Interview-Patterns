{
 "cells": [
  {
   "cell_type": "code",
   "execution_count": 1,
   "metadata": {},
   "outputs": [],
   "source": [
    "def search_triplets(arr):\n",
    "    triplets = []\n",
    "    arr.sort()\n",
    "    for i in range(len(arr)):\n",
    "        if i > 0 and arr[i] == arr[i-1]:\n",
    "            continue\n",
    "        search(arr, -arr[i], i+1, triplets)\n",
    "    return triplets\n",
    "    \n",
    "def search(arr, target, left, triplets):\n",
    "    right = len(arr) - 1\n",
    "    while left < right:\n",
    "        currentsum = arr[left] + arr[right]\n",
    "        \n",
    "        if currentsum == target:\n",
    "            triplets.append([-target, arr[left], arr[right]])\n",
    "            left += 1\n",
    "            right -= 1\n",
    "            \n",
    "            while left<right and arr[left] == arr[left-1]:\n",
    "                left += 1\n",
    "            while left<right and arr[right] == arr[right+1]:\n",
    "                right -=1\n",
    "        elif currentsum > target:\n",
    "            right -=1\n",
    "        else:\n",
    "            left += 1"
   ]
  },
  {
   "cell_type": "code",
   "execution_count": 2,
   "metadata": {},
   "outputs": [
    {
     "data": {
      "text/plain": [
       "[[-5, 2, 3], [-2, -1, 3]]"
      ]
     },
     "execution_count": 2,
     "metadata": {},
     "output_type": "execute_result"
    }
   ],
   "source": [
    "search_triplets([-5,2,-1,-2,3])"
   ]
  },
  {
   "cell_type": "code",
   "execution_count": 3,
   "metadata": {},
   "outputs": [],
   "source": [
    "def searchtriplets(arr):\n",
    "    arr.sort()\n",
    "    triplets = []\n",
    "    for i in range(len(arr)-2):\n",
    "        if i> 0 and arr[i] == arr[i-1]:\n",
    "            continue\n",
    "        left = i+1\n",
    "        right = len(arr)-1\n",
    "        while left<right:\n",
    "            currentsum = arr[i] + arr[left] + arr[right]\n",
    "            if currentsum<0:\n",
    "                left+=1\n",
    "            elif currentsum >0:\n",
    "                right-=1\n",
    "            else:\n",
    "                triplets.append([arr[i],arr[left],arr[right]])\n",
    "                while left<right and arr[left] == arr[left + 1] : \n",
    "                    left += 1\n",
    "                while left<right and arr[right] == arr[right - 1]: \n",
    "                    right -= 1\n",
    "                left+=1\n",
    "                right-=1\n",
    "    return triplets"
   ]
  },
  {
   "cell_type": "code",
   "execution_count": 4,
   "metadata": {},
   "outputs": [
    {
     "data": {
      "text/plain": [
       "[[-5, 2, 3], [-2, -1, 3]]"
      ]
     },
     "execution_count": 4,
     "metadata": {},
     "output_type": "execute_result"
    }
   ],
   "source": [
    "searchtriplets([-5,2,-1,-2,3])"
   ]
  }
 ],
 "metadata": {
  "kernelspec": {
   "display_name": "Python 3",
   "language": "python",
   "name": "python3"
  },
  "language_info": {
   "codemirror_mode": {
    "name": "ipython",
    "version": 3
   },
   "file_extension": ".py",
   "mimetype": "text/x-python",
   "name": "python",
   "nbconvert_exporter": "python",
   "pygments_lexer": "ipython3",
   "version": "3.7.6"
  }
 },
 "nbformat": 4,
 "nbformat_minor": 4
}
