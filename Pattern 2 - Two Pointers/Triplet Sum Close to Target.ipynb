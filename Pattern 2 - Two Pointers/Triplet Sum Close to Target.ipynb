{
 "cells": [
  {
   "cell_type": "code",
   "execution_count": 1,
   "metadata": {},
   "outputs": [],
   "source": [
    "import math\n",
    "\n",
    "def triplet_sum_close(arr, target):\n",
    "    arr.sort()\n",
    "    smallest_diff  = math.inf\n",
    "    for i in range(len(arr)-2):\n",
    "        left = i+1\n",
    "        right = len(arr)-1\n",
    "        while left<right:\n",
    "            diff = target - arr[i] - arr[left] - arr[right]\n",
    "            \n",
    "            if diff == 0:\n",
    "                return target - diff\n",
    "            \n",
    "            if abs(diff) < abs(smallest_diff) or (abs(diff) == abs(smallest_diff) and diff>smallest_diff):\n",
    "                smallest_diff = diff\n",
    "            if diff>0:\n",
    "                left += 1\n",
    "            else:\n",
    "                right -= 1\n",
    "    return target - smallest_diff"
   ]
  },
  {
   "cell_type": "code",
   "execution_count": 2,
   "metadata": {},
   "outputs": [],
   "source": [
    "triplet_sum_close([-2, 0, 1, 2], 2)"
   ]
  }
 ],
 "metadata": {
  "kernelspec": {
   "display_name": "Python 3",
   "language": "python",
   "name": "python3"
  },
  "language_info": {
   "codemirror_mode": {
    "name": "ipython",
    "version": 3
   },
   "file_extension": ".py",
   "mimetype": "text/x-python",
   "name": "python",
   "nbconvert_exporter": "python",
   "pygments_lexer": "ipython3",
   "version": "3.7.6"
  }
 },
 "nbformat": 4,
 "nbformat_minor": 4
}
