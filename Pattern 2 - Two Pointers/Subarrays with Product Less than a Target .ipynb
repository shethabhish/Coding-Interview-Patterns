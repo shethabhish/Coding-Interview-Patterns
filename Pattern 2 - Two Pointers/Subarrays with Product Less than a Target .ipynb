{
 "cells": [
  {
   "cell_type": "code",
   "execution_count": 1,
   "metadata": {},
   "outputs": [],
   "source": [
    "from collections import deque\n",
    "def find_subarrays(arr, target):\n",
    "    windowstart = 0\n",
    "    product = 1\n",
    "    result = []\n",
    "    for windowend in range(len(arr)):\n",
    "        product *= arr[windowend]\n",
    "        \n",
    "        while product >= target and windowend < len(arr):\n",
    "            product /= arr[windowstart]\n",
    "            windowstart += 1\n",
    "        \n",
    "        temp = deque()\n",
    "        for i in range(windowend,windowstart-1,-1):\n",
    "            temp.appendleft(arr[i])\n",
    "            result.append(list(temp))\n",
    "    return result"
   ]
  },
  {
   "cell_type": "code",
   "execution_count": 2,
   "metadata": {},
   "outputs": [
    {
     "data": {
      "text/plain": [
       "[[2], [5], [2, 5], [3], [5, 3], [10]]"
      ]
     },
     "execution_count": 2,
     "metadata": {},
     "output_type": "execute_result"
    }
   ],
   "source": [
    "find_subarrays([2, 5, 3, 10],30)"
   ]
  }
 ],
 "metadata": {
  "kernelspec": {
   "display_name": "Python 3",
   "language": "python",
   "name": "python3"
  },
  "language_info": {
   "codemirror_mode": {
    "name": "ipython",
    "version": 3
   },
   "file_extension": ".py",
   "mimetype": "text/x-python",
   "name": "python",
   "nbconvert_exporter": "python",
   "pygments_lexer": "ipython3",
   "version": "3.7.6"
  }
 },
 "nbformat": 4,
 "nbformat_minor": 4
}
