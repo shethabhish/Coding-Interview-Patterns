{
 "cells": [
  {
   "cell_type": "code",
   "execution_count": 1,
   "metadata": {},
   "outputs": [],
   "source": [
    "def circular_array_cycle_check(arr):\n",
    "    for i in range(len(arr)):\n",
    "        is_forward = arr[i] >= 0\n",
    "        slow, fast = i,i\n",
    "        \n",
    "        while True:\n",
    "            slow = find_next_index(arr,is_forward,slow)\n",
    "            fast = find_next_index(arr,is_forward,fast)\n",
    "            if (fast != -1):\n",
    "                fast = find_next_index(arr,is_forward,fast)\n",
    "            if slow == -1 or fast == -1 or slow == fast:\n",
    "                break\n",
    "        if slow != -1 and slow == fast:\n",
    "            return True\n",
    "    return False"
   ]
  },
  {
   "cell_type": "code",
   "execution_count": 2,
   "metadata": {},
   "outputs": [],
   "source": [
    "def find_next_index(arr,is_forward,current_index):\n",
    "    direction = arr[current_index] >= 0\n",
    "    \n",
    "    if is_forward != direction:\n",
    "        return -1\n",
    "    \n",
    "    next_index = (current_index + arr[current_index]) % len(arr)\n",
    "    \n",
    "    if next_index == current_index:\n",
    "        next_index = -1\n",
    "        \n",
    "    return next_index"
   ]
  },
  {
   "cell_type": "code",
   "execution_count": 3,
   "metadata": {},
   "outputs": [
    {
     "data": {
      "text/plain": [
       "True"
      ]
     },
     "execution_count": 3,
     "metadata": {},
     "output_type": "execute_result"
    }
   ],
   "source": [
    "circular_array_cycle_check([1,2,-1,2,2])"
   ]
  }
 ],
 "metadata": {
  "kernelspec": {
   "display_name": "Python 3",
   "language": "python",
   "name": "python3"
  },
  "language_info": {
   "codemirror_mode": {
    "name": "ipython",
    "version": 3
   },
   "file_extension": ".py",
   "mimetype": "text/x-python",
   "name": "python",
   "nbconvert_exporter": "python",
   "pygments_lexer": "ipython3",
   "version": "3.7.6"
  }
 },
 "nbformat": 4,
 "nbformat_minor": 4
}
