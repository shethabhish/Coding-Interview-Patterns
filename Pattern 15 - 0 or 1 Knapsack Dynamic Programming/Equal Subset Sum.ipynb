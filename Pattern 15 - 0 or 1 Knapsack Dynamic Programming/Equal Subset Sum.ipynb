{
 "cells": [
  {
   "cell_type": "code",
   "execution_count": 1,
   "metadata": {},
   "outputs": [],
   "source": [
    "def can_partition(num):\n",
    "    s = sum(num)\n",
    "    \n",
    "    if s % 2 != 0:\n",
    "        return False\n",
    "    \n",
    "    s = int(s/2)\n",
    "    n = len(num)\n",
    "    dp = [[False for x in range(s+1)] for y in range(n)]\n",
    "    for i in range(0,n):\n",
    "        dp[i][0] = True\n",
    "    \n",
    "    for j in range(1,s+1):\n",
    "        dp[0][j] = num[0] == j\n",
    "    \n",
    "    for i in range(1,n):\n",
    "        for j in range(1,s+1):\n",
    "            if dp[i-1][j]:\n",
    "                dp[i][j] = dp[i-1][j]\n",
    "            elif j >= num[i]:\n",
    "                dp[i][j] = dp[i-1][j-num[i]]\n",
    "    return dp[n-1][s]"
   ]
  },
  {
   "cell_type": "code",
   "execution_count": 2,
   "metadata": {},
   "outputs": [
    {
     "data": {
      "text/plain": [
       "True"
      ]
     },
     "execution_count": 2,
     "metadata": {},
     "output_type": "execute_result"
    }
   ],
   "source": [
    "can_partition([1,2,3,4])\n",
    "#Time complexity O(N*S)"
   ]
  }
 ],
 "metadata": {
  "kernelspec": {
   "display_name": "Python 3",
   "language": "python",
   "name": "python3"
  },
  "language_info": {
   "codemirror_mode": {
    "name": "ipython",
    "version": 3
   },
   "file_extension": ".py",
   "mimetype": "text/x-python",
   "name": "python",
   "nbconvert_exporter": "python",
   "pygments_lexer": "ipython3",
   "version": "3.7.6"
  }
 },
 "nbformat": 4,
 "nbformat_minor": 4
}
