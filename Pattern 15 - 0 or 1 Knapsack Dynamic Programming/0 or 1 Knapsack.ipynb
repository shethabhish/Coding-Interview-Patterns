{
 "cells": [
  {
   "cell_type": "code",
   "execution_count": 1,
   "metadata": {},
   "outputs": [],
   "source": [
    "#Brute Force or Recursive version\n",
    "def solve_knapsack(profits,weights,capacity):\n",
    "    return knapsack_recursive(profits,weights,capacity,0)\n",
    "\n",
    "def knapsack_recursive(profits,weights,capacity,index):\n",
    "    if capacity <=0 or index >= len(profits):\n",
    "        return 0\n",
    "    \n",
    "    profit1 = 0\n",
    "    if weights[index] <= capacity:\n",
    "        profit1 = profits[index] + knapsack_recursive(profits,weights,capacity-weights[index],index+1)\n",
    "    profit2 = knapsack_recursive(profits,weights,capacity,index+1)\n",
    "    \n",
    "    return max(profit1,profit2)"
   ]
  },
  {
   "cell_type": "code",
   "execution_count": 2,
   "metadata": {},
   "outputs": [
    {
     "data": {
      "text/plain": [
       "22"
      ]
     },
     "execution_count": 2,
     "metadata": {},
     "output_type": "execute_result"
    }
   ],
   "source": [
    "solve_knapsack([1,6,10,16],[1,2,3,5],7)\n",
    "#Time complexity O(2^n)"
   ]
  },
  {
   "cell_type": "code",
   "execution_count": 3,
   "metadata": {},
   "outputs": [],
   "source": [
    "#Top Down Dynamic Programming with Memoization\n",
    "def solve_knapsack(profits,weights,capacity):\n",
    "    dp = [[-1 for x in range(capacity+1)] for y in range(len(profits))]\n",
    "    return knapsack_recursive(dp, profits,weights,capacity,0)\n",
    "\n",
    "def knapsack_recursive(dp, profits,weights,capacity,index):\n",
    "    if capacity <=0 or index >= len(profits):\n",
    "        return 0\n",
    "    \n",
    "    if dp[index][capacity] != -1:\n",
    "        return dp[index][capacity]\n",
    "    \n",
    "    profit1 = 0\n",
    "    if weights[index] <= capacity:\n",
    "        profit1 = profits[index] + knapsack_recursive(dp, profits,weights,capacity-weights[index],index+1)\n",
    "    profit2 = knapsack_recursive(dp, profits,weights,capacity,index+1)\n",
    "    \n",
    "    dp[index][capacity] = max(profit1,profit2)\n",
    "    return dp[index][capacity]"
   ]
  },
  {
   "cell_type": "code",
   "execution_count": 4,
   "metadata": {},
   "outputs": [
    {
     "data": {
      "text/plain": [
       "22"
      ]
     },
     "execution_count": 4,
     "metadata": {},
     "output_type": "execute_result"
    }
   ],
   "source": [
    "solve_knapsack([1,6,10,16],[1,2,3,5],7)\n",
    "#Time complexity O(N*M)"
   ]
  },
  {
   "cell_type": "code",
   "execution_count": 5,
   "metadata": {},
   "outputs": [],
   "source": [
    "#Bottom Up Dynamic Programming\n",
    "def solve_knapsack(profits,weights,capacity):\n",
    "    n = len(profits)\n",
    "    if capacity <= 0 and n == 0 or len(weights) !=n:\n",
    "        return 0\n",
    "        \n",
    "    dp = [[0 for x in range(capacity+1)] for y in range(n)]\n",
    "    for i in range(0,n):\n",
    "        dp[i][0] = 0\n",
    "    \n",
    "    for c in range(0,capacity+1):\n",
    "        if weights[0] <= c:\n",
    "            dp[0][c] = profits[0]\n",
    "    print(dp)\n",
    "    for i in range(1,n):\n",
    "        for c in range(1, capacity+1):\n",
    "            profit1, profit2 = 0,0\n",
    "            if weights[i] <= c:\n",
    "                profit1 = profits[i] + dp[i-1][c-weights[i]]\n",
    "            profit2 = dp[i-1][c]\n",
    "            dp[i][c] = max(profit1,profit2)\n",
    "    print(dp)\n",
    "    return dp[n-1][capacity]"
   ]
  },
  {
   "cell_type": "code",
   "execution_count": 6,
   "metadata": {},
   "outputs": [
    {
     "name": "stdout",
     "output_type": "stream",
     "text": [
      "[[0, 1, 1, 1, 1, 1, 1, 1], [0, 0, 0, 0, 0, 0, 0, 0], [0, 0, 0, 0, 0, 0, 0, 0], [0, 0, 0, 0, 0, 0, 0, 0]]\n",
      "[[0, 1, 1, 1, 1, 1, 1, 1], [0, 1, 6, 7, 7, 7, 7, 7], [0, 1, 6, 10, 11, 16, 17, 17], [0, 1, 6, 10, 11, 16, 17, 22]]\n"
     ]
    },
    {
     "data": {
      "text/plain": [
       "22"
      ]
     },
     "execution_count": 6,
     "metadata": {},
     "output_type": "execute_result"
    }
   ],
   "source": [
    "solve_knapsack([1,6,10,16],[1,2,3,5],7)\n",
    "#Time and Space complexity O(N*C)"
   ]
  },
  {
   "cell_type": "code",
   "execution_count": 7,
   "metadata": {},
   "outputs": [],
   "source": [
    "def solve_knapsack(profits,weights,capacity):\n",
    "    n = len(profits)\n",
    "    if capacity <= 0 or n == 0 or len(weights) != n:\n",
    "        return 0\n",
    "    dp = [[0 for i in range(capacity+1)] for y in range(2)]\n",
    "    \n",
    "    for c in range(0,capacity+1):\n",
    "        if weights[0] <= c:\n",
    "            dp[0][c] = dp[1][c] = profits[0]\n",
    "            \n",
    "    for i in range(1,n):\n",
    "        for c in range(0,capacity+1):\n",
    "            profit1, profit2 = 0, 0\n",
    "            if weights[i] <= c:\n",
    "                profit1 = profits[i] + dp[(i-1)%2][c-weights[i]]\n",
    "            profit2 = dp[(i-1)%2][c]\n",
    "            dp[i%2][c] = max(profit1,profit2)\n",
    "    return dp[(n-1)%2][capacity]"
   ]
  },
  {
   "cell_type": "code",
   "execution_count": 8,
   "metadata": {},
   "outputs": [
    {
     "data": {
      "text/plain": [
       "22"
      ]
     },
     "execution_count": 8,
     "metadata": {},
     "output_type": "execute_result"
    }
   ],
   "source": [
    "solve_knapsack([1,6,10,16],[1,2,3,5],7)\n",
    "#Time complexity O(N*C), Space complexity O(C)"
   ]
  }
 ],
 "metadata": {
  "kernelspec": {
   "display_name": "Python 3",
   "language": "python",
   "name": "python3"
  },
  "language_info": {
   "codemirror_mode": {
    "name": "ipython",
    "version": 3
   },
   "file_extension": ".py",
   "mimetype": "text/x-python",
   "name": "python",
   "nbconvert_exporter": "python",
   "pygments_lexer": "ipython3",
   "version": "3.7.6"
  }
 },
 "nbformat": 4,
 "nbformat_minor": 4
}
