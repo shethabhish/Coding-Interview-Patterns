{
 "cells": [
  {
   "cell_type": "code",
   "execution_count": 1,
   "metadata": {},
   "outputs": [],
   "source": [
    "def count_subset(num,sum):\n",
    "    n = len(num)\n",
    "    dp = [[-1 for i in range(sum+1)] for y in range(n)]\n",
    "    \n",
    "    for i in range(0,n):\n",
    "        dp[i][0] = 1\n",
    "    \n",
    "    for s in range(1,sum+1):\n",
    "        dp[0][s] = 1 if num[0] == s else 0\n",
    "    \n",
    "    for i in range(1,n):\n",
    "        for s in range(1, sum+1):\n",
    "            dp[i][s] = dp[i-1][s]\n",
    "            \n",
    "            if s >= num[i]:\n",
    "                dp[i][s] += dp[i-1][s-num[i]]\n",
    "    return dp[n-1][sum]"
   ]
  },
  {
   "cell_type": "code",
   "execution_count": 2,
   "metadata": {},
   "outputs": [
    {
     "data": {
      "text/plain": [
       "3"
      ]
     },
     "execution_count": 2,
     "metadata": {},
     "output_type": "execute_result"
    }
   ],
   "source": [
    "count_subset([1,1,2,3],4)"
   ]
  }
 ],
 "metadata": {
  "kernelspec": {
   "display_name": "Python 3",
   "language": "python",
   "name": "python3"
  },
  "language_info": {
   "codemirror_mode": {
    "name": "ipython",
    "version": 3
   },
   "file_extension": ".py",
   "mimetype": "text/x-python",
   "name": "python",
   "nbconvert_exporter": "python",
   "pygments_lexer": "ipython3",
   "version": "3.7.6"
  }
 },
 "nbformat": 4,
 "nbformat_minor": 4
}
