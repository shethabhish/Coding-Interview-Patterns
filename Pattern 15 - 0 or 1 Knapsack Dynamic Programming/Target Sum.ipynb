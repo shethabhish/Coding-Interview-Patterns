{
 "cells": [
  {
   "cell_type": "code",
   "execution_count": 1,
   "metadata": {},
   "outputs": [],
   "source": [
    "def find_target_subsets(num,s):\n",
    "    total = sum(num)\n",
    "    \n",
    "    if total < s or (s+total) %2 == 1:\n",
    "        return 0\n",
    "    return count_subsets(num,int((s+total)/2))"
   ]
  },
  {
   "cell_type": "code",
   "execution_count": 2,
   "metadata": {},
   "outputs": [],
   "source": [
    "def count_subsets(num,s):\n",
    "    n = len(num)\n",
    "    dp = [[0 for i in range(s+1)] for y in range(n)]\n",
    "    \n",
    "    for i in range(0,n):\n",
    "        dp[i][0] = 1\n",
    "    \n",
    "    for s in range(1,s+1):\n",
    "        dp[0][s] = 1 if num[0] == s else 0\n",
    "        \n",
    "    for i in range(1,n):\n",
    "        for s in range(1,s+1):\n",
    "            dp[i][s] = dp[i-1][s]   \n",
    "            if s>= num[i]:\n",
    "                dp[i][s] += dp[i-1][s-num[i]]\n",
    "                \n",
    "    return dp[n-1][s]"
   ]
  },
  {
   "cell_type": "code",
   "execution_count": 3,
   "metadata": {},
   "outputs": [
    {
     "data": {
      "text/plain": [
       "3"
      ]
     },
     "execution_count": 3,
     "metadata": {},
     "output_type": "execute_result"
    }
   ],
   "source": [
    "find_target_subsets([1,1,2,3],1)"
   ]
  }
 ],
 "metadata": {
  "kernelspec": {
   "display_name": "Python 3",
   "language": "python",
   "name": "python3"
  },
  "language_info": {
   "codemirror_mode": {
    "name": "ipython",
    "version": 3
   },
   "file_extension": ".py",
   "mimetype": "text/x-python",
   "name": "python",
   "nbconvert_exporter": "python",
   "pygments_lexer": "ipython3",
   "version": "3.7.6"
  }
 },
 "nbformat": 4,
 "nbformat_minor": 4
}
