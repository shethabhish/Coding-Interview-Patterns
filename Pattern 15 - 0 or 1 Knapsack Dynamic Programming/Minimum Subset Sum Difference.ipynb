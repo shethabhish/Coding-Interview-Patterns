{
 "cells": [
  {
   "cell_type": "code",
   "execution_count": 1,
   "metadata": {},
   "outputs": [],
   "source": [
    "def can_partition(num):\n",
    "    s = sum(num)\n",
    "    n = len(num)\n",
    "    dp = [[False for i in range(int(s/2)+1)] for y in range(n)]\n",
    "    \n",
    "    for i in range(n):\n",
    "        dp[i][0] = True \n",
    "    \n",
    "    for j in range(0, int(s/2)+1):\n",
    "        dp[0][j] = num[0] == j\n",
    "    \n",
    "    for i in range(1,n):\n",
    "        for j in range(1,int(s/2)+1):\n",
    "            if dp[i-1][j]:\n",
    "                dp[i][j] = dp[i-1][j]\n",
    "            elif j >= num[i]:\n",
    "                dp[i][j] = dp[i-1][j-num[i]]\n",
    "    sum1 = 0\n",
    "    for i in range(int(s/2) , -1, -1):\n",
    "        if dp[n-1][i]:\n",
    "            sum1 = i\n",
    "            break\n",
    "    sum2 = s- sum1\n",
    "    return abs(sum2-sum1)"
   ]
  },
  {
   "cell_type": "code",
   "execution_count": 2,
   "metadata": {},
   "outputs": [
    {
     "data": {
      "text/plain": [
       "3"
      ]
     },
     "execution_count": 2,
     "metadata": {},
     "output_type": "execute_result"
    }
   ],
   "source": [
    "can_partition([1,2,3,9])"
   ]
  }
 ],
 "metadata": {
  "kernelspec": {
   "display_name": "Python 3",
   "language": "python",
   "name": "python3"
  },
  "language_info": {
   "codemirror_mode": {
    "name": "ipython",
    "version": 3
   },
   "file_extension": ".py",
   "mimetype": "text/x-python",
   "name": "python",
   "nbconvert_exporter": "python",
   "pygments_lexer": "ipython3",
   "version": "3.7.6"
  }
 },
 "nbformat": 4,
 "nbformat_minor": 4
}
