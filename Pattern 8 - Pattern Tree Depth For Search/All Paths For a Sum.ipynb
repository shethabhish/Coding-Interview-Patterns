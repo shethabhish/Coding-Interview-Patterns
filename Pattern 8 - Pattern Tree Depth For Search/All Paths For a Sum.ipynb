{
 "cells": [
  {
   "cell_type": "code",
   "execution_count": 1,
   "metadata": {},
   "outputs": [],
   "source": [
    "class Tree:\n",
    "    def __init__(self, val, left=None, right= None):\n",
    "        self.val = val\n",
    "        self.left = left\n",
    "        self.right = right"
   ]
  },
  {
   "cell_type": "code",
   "execution_count": 2,
   "metadata": {},
   "outputs": [],
   "source": [
    "root = Tree(12)\n",
    "root.left = Tree(7)\n",
    "root.right = Tree(1)\n",
    "root.left.left = Tree(4)\n",
    "root.right.left = Tree(10)\n",
    "root.right.right = Tree(5)"
   ]
  },
  {
   "cell_type": "code",
   "execution_count": 3,
   "metadata": {},
   "outputs": [],
   "source": [
    "def find_paths(root, sum):\n",
    "    allpaths = []\n",
    "    find_sum(root,sum,[],allpaths)\n",
    "    return allpaths "
   ]
  },
  {
   "cell_type": "code",
   "execution_count": 4,
   "metadata": {},
   "outputs": [],
   "source": [
    "def find_sum(currentnode,sum,currentpath,allpaths):\n",
    "    if currentnode is None:\n",
    "        return \n",
    "    \n",
    "    currentpath.append(currentnode.val)\n",
    "    \n",
    "    if currentnode.val == sum and currentnode.left is None and currentnode.right is None:\n",
    "        allpaths.append(list(currentpath))\n",
    "    else:\n",
    "        find_sum(currentnode.left, sum-currentnode.val, currentpath, allpaths)\n",
    "        find_sum(currentnode.right, sum-currentnode.val, currentpath, allpaths)\n",
    "    \n",
    "    del currentpath[-1]"
   ]
  },
  {
   "cell_type": "code",
   "execution_count": 5,
   "metadata": {},
   "outputs": [
    {
     "data": {
      "text/plain": [
       "[[12, 7, 4], [12, 1, 10]]"
      ]
     },
     "execution_count": 5,
     "metadata": {},
     "output_type": "execute_result"
    }
   ],
   "source": [
    "find_paths(root,23)"
   ]
  }
 ],
 "metadata": {
  "kernelspec": {
   "display_name": "Python 3",
   "language": "python",
   "name": "python3"
  },
  "language_info": {
   "codemirror_mode": {
    "name": "ipython",
    "version": 3
   },
   "file_extension": ".py",
   "mimetype": "text/x-python",
   "name": "python",
   "nbconvert_exporter": "python",
   "pygments_lexer": "ipython3",
   "version": "3.7.6"
  }
 },
 "nbformat": 4,
 "nbformat_minor": 4
}
