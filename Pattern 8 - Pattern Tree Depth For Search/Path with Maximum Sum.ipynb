{
 "cells": [
  {
   "cell_type": "code",
   "execution_count": 1,
   "metadata": {},
   "outputs": [],
   "source": [
    "class Tree:\n",
    "    def __init__(self,val,left=None,right=None):\n",
    "        self.val = val\n",
    "        self.left = left\n",
    "        self.right = right"
   ]
  },
  {
   "cell_type": "code",
   "execution_count": 2,
   "metadata": {},
   "outputs": [],
   "source": [
    "import math\n",
    "class maximum_path:\n",
    "    def find_max(self,root):\n",
    "        self.maxsum = -math.inf\n",
    "        self.max_path(root)\n",
    "        return self.maxsum\n",
    "    \n",
    "    def max_path(self,current):\n",
    "        if current is None:\n",
    "            return 0\n",
    "        \n",
    "        maxsumleft = self.max_path(current.left)\n",
    "        maxsumright = self.max_path(current.right)\n",
    "        \n",
    "        maxsumleft = max(maxsumleft,0)\n",
    "        maxsumright = max(maxsumright,0)\n",
    "        \n",
    "        currentmaxsum = maxsumleft+maxsumright+current.val\n",
    "        \n",
    "        self.maxsum = max(self.maxsum, currentmaxsum)\n",
    "        \n",
    "        return max(maxsumleft,maxsumright) + current.val"
   ]
  },
  {
   "cell_type": "code",
   "execution_count": 3,
   "metadata": {},
   "outputs": [],
   "source": [
    "root = Tree(1)\n",
    "root.left = Tree(2)\n",
    "root.right = Tree(3)"
   ]
  },
  {
   "cell_type": "code",
   "execution_count": 4,
   "metadata": {},
   "outputs": [
    {
     "data": {
      "text/plain": [
       "6"
      ]
     },
     "execution_count": 4,
     "metadata": {},
     "output_type": "execute_result"
    }
   ],
   "source": [
    "maxpathsum = maximum_path()\n",
    "maxpathsum.find_max(root)"
   ]
  },
  {
   "cell_type": "code",
   "execution_count": 5,
   "metadata": {},
   "outputs": [],
   "source": [
    "root.left.left = Tree(1)\n",
    "root.left.right = Tree(3)\n",
    "root.right.left = Tree(5)\n",
    "root.right.right = Tree(6)\n",
    "root.right.left.left = Tree(7)\n",
    "root.right.left.right = Tree(8)\n",
    "root.right.right.left = Tree(9)"
   ]
  },
  {
   "cell_type": "code",
   "execution_count": 6,
   "metadata": {},
   "outputs": [
    {
     "data": {
      "text/plain": [
       "31"
      ]
     },
     "execution_count": 6,
     "metadata": {},
     "output_type": "execute_result"
    }
   ],
   "source": [
    "maxpathsum.find_max(root)"
   ]
  }
 ],
 "metadata": {
  "kernelspec": {
   "display_name": "Python 3",
   "language": "python",
   "name": "python3"
  },
  "language_info": {
   "codemirror_mode": {
    "name": "ipython",
    "version": 3
   },
   "file_extension": ".py",
   "mimetype": "text/x-python",
   "name": "python",
   "nbconvert_exporter": "python",
   "pygments_lexer": "ipython3",
   "version": "3.7.6"
  }
 },
 "nbformat": 4,
 "nbformat_minor": 4
}
