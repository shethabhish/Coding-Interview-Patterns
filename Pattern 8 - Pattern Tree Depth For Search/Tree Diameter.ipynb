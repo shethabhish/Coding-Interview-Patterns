{
 "cells": [
  {
   "cell_type": "code",
   "execution_count": 1,
   "metadata": {},
   "outputs": [],
   "source": [
    "class Tree:\n",
    "    def __init__(self,val,left=None,right=None):\n",
    "        self.val = val\n",
    "        self.right = right\n",
    "        self.left = left"
   ]
  },
  {
   "cell_type": "code",
   "execution_count": 2,
   "metadata": {},
   "outputs": [],
   "source": [
    "class Treediameter:\n",
    "    def __init__(self):\n",
    "        self.treediameter = 0\n",
    "    \n",
    "    def find_diameter(self,root):\n",
    "        self.calculate_height(root)\n",
    "        return self.treediameter\n",
    "    \n",
    "    def calculate_height(self,current):\n",
    "        if current is None:\n",
    "            return 0\n",
    "        \n",
    "        lefttreeheight = self.calculate_height(current.left)\n",
    "        righttreeheight = self.calculate_height(current.right)\n",
    "        \n",
    "        diameter = lefttreeheight + righttreeheight + 1\n",
    "        \n",
    "        self.treediameter = max(self.treediameter, diameter)\n",
    "        \n",
    "        return max(lefttreeheight, righttreeheight) + 1"
   ]
  },
  {
   "cell_type": "code",
   "execution_count": 3,
   "metadata": {},
   "outputs": [],
   "source": [
    "dia = Treediameter()\n",
    "root = Tree(1)\n",
    "root.left = Tree(2)\n",
    "root.right = Tree(3)\n",
    "root.left.left = Tree(4)\n",
    "root.right.left = Tree(5)\n",
    "root.right.right = Tree(6)"
   ]
  },
  {
   "cell_type": "code",
   "execution_count": 4,
   "metadata": {},
   "outputs": [
    {
     "data": {
      "text/plain": [
       "5"
      ]
     },
     "execution_count": 4,
     "metadata": {},
     "output_type": "execute_result"
    }
   ],
   "source": [
    "dia.find_diameter(root)"
   ]
  }
 ],
 "metadata": {
  "kernelspec": {
   "display_name": "Python 3",
   "language": "python",
   "name": "python3"
  },
  "language_info": {
   "codemirror_mode": {
    "name": "ipython",
    "version": 3
   },
   "file_extension": ".py",
   "mimetype": "text/x-python",
   "name": "python",
   "nbconvert_exporter": "python",
   "pygments_lexer": "ipython3",
   "version": "3.7.6"
  }
 },
 "nbformat": 4,
 "nbformat_minor": 4
}
