{
 "cells": [
  {
   "cell_type": "code",
   "execution_count": 1,
   "metadata": {},
   "outputs": [],
   "source": [
    "def non_repeat_substring(s):\n",
    "    windowstart = 0\n",
    "    maxlength = 0\n",
    "    charindex = {}\n",
    "    \n",
    "    for windowend in range(len(s)):\n",
    "        rightchar = s[windowend]\n",
    "        if rightchar in charindex:\n",
    "            windowstart = max(windowstart, charindex[rightchar]+1)\n",
    "        charindex[rightchar] = windowend\n",
    "        maxlength = max(maxlength, windowend-windowstart+1)\n",
    "        \n",
    "    return maxlength"
   ]
  },
  {
   "cell_type": "code",
   "execution_count": 2,
   "metadata": {},
   "outputs": [
    {
     "data": {
      "text/plain": [
       "3"
      ]
     },
     "execution_count": 2,
     "metadata": {},
     "output_type": "execute_result"
    }
   ],
   "source": [
    "non_repeat_substring(\"aabccbb\")\n",
    "#Time complexity O(N)"
   ]
  }
 ],
 "metadata": {
  "kernelspec": {
   "display_name": "Python 3",
   "language": "python",
   "name": "python3"
  },
  "language_info": {
   "codemirror_mode": {
    "name": "ipython",
    "version": 3
   },
   "file_extension": ".py",
   "mimetype": "text/x-python",
   "name": "python",
   "nbconvert_exporter": "python",
   "pygments_lexer": "ipython3",
   "version": "3.7.6"
  }
 },
 "nbformat": 4,
 "nbformat_minor": 4
}
