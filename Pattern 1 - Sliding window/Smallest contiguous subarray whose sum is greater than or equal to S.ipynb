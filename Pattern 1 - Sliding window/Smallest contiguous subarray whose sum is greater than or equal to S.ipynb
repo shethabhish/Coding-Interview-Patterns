{
 "cells": [
  {
   "cell_type": "code",
   "execution_count": 1,
   "metadata": {},
   "outputs": [],
   "source": [
    "import math\n",
    "    \n",
    "def smallest_subarray_with_given_sum(s,arr):\n",
    "    windowsum = 0\n",
    "    windowstart = 0\n",
    "    minlength = math.inf\n",
    "    for windowend in range(0,len(arr)):\n",
    "        windowsum += arr[windowend]\n",
    "        \n",
    "        if windowsum >= s:\n",
    "            minlength = min(minlength, windowend-windowstart+1)\n",
    "            windowsum -= arr[windowstart]\n",
    "            windowstart += 1\n",
    "    if minlength == math.inf:\n",
    "        return 0\n",
    "    return minlength"
   ]
  },
  {
   "cell_type": "code",
   "execution_count": 2,
   "metadata": {},
   "outputs": [
    {
     "data": {
      "text/plain": [
       "3"
      ]
     },
     "execution_count": 2,
     "metadata": {},
     "output_type": "execute_result"
    }
   ],
   "source": [
    "smallest_subarray_with_given_sum(7,[2,1,5,2,3,2])\n",
    "#Time complexity = O(N+N) = O(N)"
   ]
  },
  {
   "cell_type": "code",
   "execution_count": null,
   "metadata": {},
   "outputs": [],
   "source": []
  }
 ],
 "metadata": {
  "kernelspec": {
   "display_name": "Python 3",
   "language": "python",
   "name": "python3"
  },
  "language_info": {
   "codemirror_mode": {
    "name": "ipython",
    "version": 3
   },
   "file_extension": ".py",
   "mimetype": "text/x-python",
   "name": "python",
   "nbconvert_exporter": "python",
   "pygments_lexer": "ipython3",
   "version": "3.7.6"
  }
 },
 "nbformat": 4,
 "nbformat_minor": 4
}
