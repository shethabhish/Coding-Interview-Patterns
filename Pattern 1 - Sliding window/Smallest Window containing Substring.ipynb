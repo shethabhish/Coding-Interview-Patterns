{
 "cells": [
  {
   "cell_type": "code",
   "execution_count": 1,
   "metadata": {},
   "outputs": [],
   "source": [
    "def find_substring(s, pattern):\n",
    "    windowstart = 0\n",
    "    charfreq = {}\n",
    "    match = 0\n",
    "    minlength = len(s) + 1\n",
    "    for ch in pattern:\n",
    "        if ch not in charfreq:\n",
    "            charfreq[ch] = 0\n",
    "        charfreq[ch] += 1\n",
    "    \n",
    "    for windowend in range(len(s)):\n",
    "        rightchar = s[windowend]\n",
    "        if rightchar in charfreq:\n",
    "            charfreq[rightchar] -=1\n",
    "            if charfreq[rightchar] >= 0:\n",
    "                match += 1\n",
    "        \n",
    "        while match == len(pattern):\n",
    "            if minlength > windowend - windowstart + 1:\n",
    "                minlength = windowend - windowstart + 1\n",
    "                start = windowstart\n",
    "            \n",
    "            leftchar = s[windowstart]\n",
    "            windowstart += 1\n",
    "            if leftchar in charfreq:\n",
    "                if charfreq[leftchar] == 0:\n",
    "                    match -= 1\n",
    "                charfreq[leftchar] += 1\n",
    "    if minlength > len(s):\n",
    "        return \"\"\n",
    "    return s[start:start+minlength]"
   ]
  },
  {
   "cell_type": "code",
   "execution_count": 2,
   "metadata": {},
   "outputs": [
    {
     "data": {
      "text/plain": [
       "'abdec'"
      ]
     },
     "execution_count": 2,
     "metadata": {},
     "output_type": "execute_result"
    }
   ],
   "source": [
    "find_substring(\"aabdec\", \"abc\")"
   ]
  },
  {
   "cell_type": "code",
   "execution_count": null,
   "metadata": {},
   "outputs": [],
   "source": []
  }
 ],
 "metadata": {
  "kernelspec": {
   "display_name": "Python 3",
   "language": "python",
   "name": "python3"
  },
  "language_info": {
   "codemirror_mode": {
    "name": "ipython",
    "version": 3
   },
   "file_extension": ".py",
   "mimetype": "text/x-python",
   "name": "python",
   "nbconvert_exporter": "python",
   "pygments_lexer": "ipython3",
   "version": "3.7.6"
  }
 },
 "nbformat": 4,
 "nbformat_minor": 4
}
