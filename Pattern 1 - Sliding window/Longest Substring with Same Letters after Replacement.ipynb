{
 "cells": [
  {
   "cell_type": "code",
   "execution_count": 1,
   "metadata": {},
   "outputs": [],
   "source": [
    "def length_of_longest_substring(s,k):\n",
    "    windowstart,maxlength,maxrepeat = 0,0,0\n",
    "    charfreq = {}\n",
    "    for windowend in range(len(s)):\n",
    "        rightchar = s[windowend]\n",
    "        \n",
    "        if rightchar not in charfreq:\n",
    "            charfreq[rightchar] = 0\n",
    "        charfreq[rightchar] += 1\n",
    "        \n",
    "        maxrepeat = max(maxrepeat,charfreq[rightchar])\n",
    "        \n",
    "        if (windowend-windowstart+1-maxrepeat) > k:\n",
    "            leftchar = s[windowstart]\n",
    "            charfreq[leftchar] -=1\n",
    "            windowstart +=1\n",
    "        \n",
    "        maxlength = max(maxlength, windowend-windowstart+1)\n",
    "    \n",
    "    return maxlength"
   ]
  },
  {
   "cell_type": "code",
   "execution_count": 2,
   "metadata": {},
   "outputs": [
    {
     "data": {
      "text/plain": [
       "5"
      ]
     },
     "execution_count": 2,
     "metadata": {},
     "output_type": "execute_result"
    }
   ],
   "source": [
    "length_of_longest_substring(\"aabccbb\", 2)\n",
    "#Time complexity = O(N)"
   ]
  },
  {
   "cell_type": "code",
   "execution_count": null,
   "metadata": {},
   "outputs": [],
   "source": []
  }
 ],
 "metadata": {
  "kernelspec": {
   "display_name": "Python 3",
   "language": "python",
   "name": "python3"
  },
  "language_info": {
   "codemirror_mode": {
    "name": "ipython",
    "version": 3
   },
   "file_extension": ".py",
   "mimetype": "text/x-python",
   "name": "python",
   "nbconvert_exporter": "python",
   "pygments_lexer": "ipython3",
   "version": "3.7.6"
  }
 },
 "nbformat": 4,
 "nbformat_minor": 4
}
